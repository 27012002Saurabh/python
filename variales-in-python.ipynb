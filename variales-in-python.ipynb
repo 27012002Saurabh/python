{
 "cells": [
  {
   "cell_type": "code",
   "execution_count": 2,
   "id": "ba9a548b-b33e-4689-9d2b-2f0695969436",
   "metadata": {},
   "outputs": [],
   "source": [
    "# C lang\n",
    "# int a = 5\n"
   ]
  },
  {
   "cell_type": "code",
   "execution_count": 3,
   "id": "3728e39f-efb4-49fa-9b50-8b72c93573d9",
   "metadata": {},
   "outputs": [],
   "source": [
    "name = 'saurabh'"
   ]
  },
  {
   "cell_type": "code",
   "execution_count": 4,
   "id": "fb1d3797-1be0-4d6b-89e9-59cfaf800efc",
   "metadata": {
    "scrolled": true
   },
   "outputs": [
    {
     "name": "stdout",
     "output_type": "stream",
     "text": [
      "saurabh\n"
     ]
    }
   ],
   "source": [
    "print(name)"
   ]
  },
  {
   "cell_type": "code",
   "execution_count": 5,
   "id": "4400e277-6e4b-415c-ac93-17aeb2185515",
   "metadata": {},
   "outputs": [],
   "source": [
    "name = 'hello world'"
   ]
  },
  {
   "cell_type": "code",
   "execution_count": 6,
   "id": "8b331c17-1502-46e4-891c-0f217aa52e10",
   "metadata": {},
   "outputs": [
    {
     "name": "stdout",
     "output_type": "stream",
     "text": [
      "hello world\n"
     ]
    }
   ],
   "source": [
    "print(name)"
   ]
  },
  {
   "cell_type": "code",
   "execution_count": 7,
   "id": "508e7177-4cfb-46af-a717-054cc608cb4f",
   "metadata": {},
   "outputs": [],
   "source": [
    "# no variables declaration"
   ]
  },
  {
   "cell_type": "code",
   "execution_count": 8,
   "id": "4977f70d-584b-44fb-8a31-11615f28a5e3",
   "metadata": {},
   "outputs": [],
   "source": [
    "#Dynamic typing -->php\n",
    "# static typing "
   ]
  },
  {
   "cell_type": "code",
   "execution_count": 9,
   "id": "77e5ea67-ab8f-43ec-a39e-ab4380328acc",
   "metadata": {},
   "outputs": [],
   "source": [
    "name = 4"
   ]
  },
  {
   "cell_type": "code",
   "execution_count": 10,
   "id": "091bf7b8-1acf-4805-ab3d-279236fce2a2",
   "metadata": {},
   "outputs": [
    {
     "name": "stdout",
     "output_type": "stream",
     "text": [
      "4\n"
     ]
    }
   ],
   "source": [
    "print(name)"
   ]
  },
  {
   "cell_type": "code",
   "execution_count": 16,
   "id": "f593483e-3a97-4e97-9eb9-7b77683f4d0a",
   "metadata": {},
   "outputs": [],
   "source": [
    "name = True\n"
   ]
  },
  {
   "cell_type": "code",
   "execution_count": 17,
   "id": "e60b2d1c-1180-4ecc-b68a-30d6f7893562",
   "metadata": {},
   "outputs": [
    {
     "name": "stdout",
     "output_type": "stream",
     "text": [
      "True\n"
     ]
    }
   ],
   "source": [
    "print(name)"
   ]
  },
  {
   "cell_type": "code",
   "execution_count": 1,
   "id": "f68caff4-1732-417a-981c-8a074ea1109a",
   "metadata": {},
   "outputs": [],
   "source": [
    "#static binding \n"
   ]
  },
  {
   "cell_type": "code",
   "execution_count": 2,
   "id": "159b7bb7-201f-4a6b-b785-d7e651f8cda8",
   "metadata": {},
   "outputs": [],
   "source": [
    "#Dynaming binding"
   ]
  },
  {
   "cell_type": "code",
   "execution_count": 3,
   "id": "d769d1f0-b702-4c9a-a71c-2d360070aa8d",
   "metadata": {},
   "outputs": [],
   "source": [
    "# special syntax"
   ]
  },
  {
   "cell_type": "code",
   "execution_count": 6,
   "id": "9356cc1e-5bb9-4cd2-b119-5d0292e7e21e",
   "metadata": {},
   "outputs": [
    {
     "name": "stdout",
     "output_type": "stream",
     "text": [
      "5\n",
      "6\n",
      "7\n"
     ]
    }
   ],
   "source": [
    "# multiple variables declared in single line \n",
    "a = 5; b = 6;c=7\n",
    "print(a)\n",
    "print(b)\n",
    "print(c)"
   ]
  },
  {
   "cell_type": "code",
   "execution_count": 7,
   "id": "6507eb8a-114a-4d71-b253-58475bd18035",
   "metadata": {},
   "outputs": [
    {
     "name": "stdout",
     "output_type": "stream",
     "text": [
      "4\n",
      "5\n",
      "6\n"
     ]
    }
   ],
   "source": [
    "a,b,c= 4,5,6\n",
    "print(a)\n",
    "print(b)\n",
    "print(c)"
   ]
  },
  {
   "cell_type": "code",
   "execution_count": null,
   "id": "060f5637-673d-4d9d-ae79-ff8e19fe25e3",
   "metadata": {},
   "outputs": [],
   "source": []
  }
 ],
 "metadata": {
  "kernelspec": {
   "display_name": "Python 3 (ipykernel)",
   "language": "python",
   "name": "python3"
  },
  "language_info": {
   "codemirror_mode": {
    "name": "ipython",
    "version": 3
   },
   "file_extension": ".py",
   "mimetype": "text/x-python",
   "name": "python",
   "nbconvert_exporter": "python",
   "pygments_lexer": "ipython3",
   "version": "3.11.4"
  }
 },
 "nbformat": 4,
 "nbformat_minor": 5
}
