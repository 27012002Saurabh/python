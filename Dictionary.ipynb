{
 "cells": [
  {
   "cell_type": "code",
   "execution_count": 1,
   "id": "45c0a22c-45bc-4bdc-94a2-13f775645d76",
   "metadata": {},
   "outputs": [],
   "source": [
    "# dictionary has no indexing\n",
    "# dictionaly is a mutable types\n",
    "# immutable , values -> they can be mutable\n",
    "# key should be unique"
   ]
  },
  {
   "cell_type": "code",
   "execution_count": 2,
   "id": "a8a2ff6a-c3b2-4e11-b3a3-ea7630ed6472",
   "metadata": {},
   "outputs": [],
   "source": [
    "# Mutable -> list/sets/dictonary"
   ]
  },
  {
   "cell_type": "code",
   "execution_count": 3,
   "id": "fa6df0ca-cc30-4364-9f6f-f03f5f18845d",
   "metadata": {},
   "outputs": [],
   "source": [
    "#Immutable -> String/tuples/int/float/Boolean/complex"
   ]
  },
  {
   "cell_type": "code",
   "execution_count": 4,
   "id": "3b173c4d-8a27-429c-9ff2-ed620db3df78",
   "metadata": {},
   "outputs": [
    {
     "data": {
      "text/plain": [
       "{}"
      ]
     },
     "execution_count": 4,
     "metadata": {},
     "output_type": "execute_result"
    }
   ],
   "source": [
    "#create\n",
    "D = {}\n",
    "D"
   ]
  },
  {
   "cell_type": "code",
   "execution_count": 5,
   "id": "add6aa8c-ad0f-4b12-9d7a-5225f169660f",
   "metadata": {},
   "outputs": [
    {
     "data": {
      "text/plain": [
       "{'Name': 'Saurabh', 'Gender': 'Male'}"
      ]
     },
     "execution_count": 5,
     "metadata": {},
     "output_type": "execute_result"
    }
   ],
   "source": [
    "D = {\"Name\":\"Saurabh\",\"Gender\":\"Male\"}\n",
    "D"
   ]
  },
  {
   "cell_type": "code",
   "execution_count": 6,
   "id": "6d76e1d6-a23b-4230-9f86-2e204ca9c082",
   "metadata": {},
   "outputs": [
    {
     "ename": "TypeError",
     "evalue": "unhashable type: 'list'",
     "output_type": "error",
     "traceback": [
      "\u001b[1;31m---------------------------------------------------------------------------\u001b[0m",
      "\u001b[1;31mTypeError\u001b[0m                                 Traceback (most recent call last)",
      "Cell \u001b[1;32mIn[6], line 1\u001b[0m\n\u001b[1;32m----> 1\u001b[0m D1 \u001b[38;5;241m=\u001b[39m {[\u001b[38;5;241m1\u001b[39m,\u001b[38;5;241m2\u001b[39m,\u001b[38;5;241m3\u001b[39m]:\u001b[38;5;124m'\u001b[39m\u001b[38;5;124mSaurabh\u001b[39m\u001b[38;5;124m'\u001b[39m}\n",
      "\u001b[1;31mTypeError\u001b[0m: unhashable type: 'list'"
     ]
    }
   ],
   "source": [
    "D1 = {[1,2,3]:'Saurabh'}"
   ]
  },
  {
   "cell_type": "code",
   "execution_count": 7,
   "id": "31e3bf81-e062-4e77-9581-23af92bc2bb4",
   "metadata": {},
   "outputs": [],
   "source": [
    "D1 = {(1,2,3):\"Saurabh\"}"
   ]
  },
  {
   "cell_type": "code",
   "execution_count": 8,
   "id": "a8d0ab11-2a7a-4b9a-92bf-4fe35fbc9b9b",
   "metadata": {},
   "outputs": [
    {
     "data": {
      "text/plain": [
       "{(1, 2, 3): 'Saurabh'}"
      ]
     },
     "execution_count": 8,
     "metadata": {},
     "output_type": "execute_result"
    }
   ],
   "source": [
    "D1"
   ]
  },
  {
   "cell_type": "code",
   "execution_count": 9,
   "id": "167dacb1-f464-4648-86d6-179389f35ad7",
   "metadata": {},
   "outputs": [],
   "source": [
    "D2 = {\"Name\": \"Rahul\",\"Name\": \"Abhi\"}"
   ]
  },
  {
   "cell_type": "code",
   "execution_count": 10,
   "id": "3335d7c9-959d-482b-a963-dc4030979532",
   "metadata": {},
   "outputs": [
    {
     "data": {
      "text/plain": [
       "{'Name': 'Abhi'}"
      ]
     },
     "execution_count": 10,
     "metadata": {},
     "output_type": "execute_result"
    }
   ],
   "source": [
    "D2"
   ]
  },
  {
   "cell_type": "code",
   "execution_count": 11,
   "id": "9547da62-ec77-4031-9b81-9bf4736e6ff0",
   "metadata": {},
   "outputs": [],
   "source": [
    "# Access items from a dict"
   ]
  },
  {
   "cell_type": "code",
   "execution_count": 12,
   "id": "5f263e42-d908-44cc-bdcd-64fd9d936d8e",
   "metadata": {},
   "outputs": [
    {
     "data": {
      "text/plain": [
       "{(1, 2, 3): 'Saurabh'}"
      ]
     },
     "execution_count": 12,
     "metadata": {},
     "output_type": "execute_result"
    }
   ],
   "source": [
    "D1"
   ]
  },
  {
   "cell_type": "code",
   "execution_count": 13,
   "id": "e7076edc-cf7e-4ac1-913e-ce75ce4bb41c",
   "metadata": {},
   "outputs": [
    {
     "ename": "KeyError",
     "evalue": "0",
     "output_type": "error",
     "traceback": [
      "\u001b[1;31m---------------------------------------------------------------------------\u001b[0m",
      "\u001b[1;31mKeyError\u001b[0m                                  Traceback (most recent call last)",
      "Cell \u001b[1;32mIn[13], line 1\u001b[0m\n\u001b[1;32m----> 1\u001b[0m \u001b[43mD\u001b[49m\u001b[43m[\u001b[49m\u001b[38;5;241;43m0\u001b[39;49m\u001b[43m]\u001b[49m\n",
      "\u001b[1;31mKeyError\u001b[0m: 0"
     ]
    }
   ],
   "source": [
    "D[0]"
   ]
  },
  {
   "cell_type": "code",
   "execution_count": 14,
   "id": "99a04969-c29b-4195-8ed7-fe4b31174b7f",
   "metadata": {},
   "outputs": [
    {
     "data": {
      "text/plain": [
       "'Saurabh'"
      ]
     },
     "execution_count": 14,
     "metadata": {},
     "output_type": "execute_result"
    }
   ],
   "source": [
    "D['Name']"
   ]
  },
  {
   "cell_type": "code",
   "execution_count": 15,
   "id": "ce7dcb74-dc8e-4ad2-bb9e-00e88630a279",
   "metadata": {},
   "outputs": [],
   "source": [
    "# Edit"
   ]
  },
  {
   "cell_type": "code",
   "execution_count": 16,
   "id": "91f07a18-e2ff-4244-abcd-ddf8e59aecb1",
   "metadata": {},
   "outputs": [
    {
     "data": {
      "text/plain": [
       "{'Name': 'Saurabh', 'Gender': 'Male'}"
      ]
     },
     "execution_count": 16,
     "metadata": {},
     "output_type": "execute_result"
    }
   ],
   "source": [
    "D"
   ]
  },
  {
   "cell_type": "code",
   "execution_count": 17,
   "id": "e4dbccfc-28da-41bc-bdc9-cc70f60cec18",
   "metadata": {},
   "outputs": [],
   "source": [
    "D['Name']= 'Shashi'"
   ]
  },
  {
   "cell_type": "code",
   "execution_count": 18,
   "id": "ecf1ac6b-c5a9-4412-aab4-497c9b116662",
   "metadata": {},
   "outputs": [
    {
     "data": {
      "text/plain": [
       "{'Name': 'Shashi', 'Gender': 'Male'}"
      ]
     },
     "execution_count": 18,
     "metadata": {},
     "output_type": "execute_result"
    }
   ],
   "source": [
    "D"
   ]
  },
  {
   "cell_type": "code",
   "execution_count": 19,
   "id": "a089e1e3-19a5-49a2-a2f9-59411aa31a10",
   "metadata": {},
   "outputs": [],
   "source": [
    "D['Gender']= 'Female'"
   ]
  },
  {
   "cell_type": "code",
   "execution_count": 20,
   "id": "b1488fcf-6a65-408d-b1a3-4e618841fa38",
   "metadata": {},
   "outputs": [
    {
     "data": {
      "text/plain": [
       "{'Name': 'Shashi', 'Gender': 'Female'}"
      ]
     },
     "execution_count": 20,
     "metadata": {},
     "output_type": "execute_result"
    }
   ],
   "source": [
    "D"
   ]
  },
  {
   "cell_type": "code",
   "execution_count": 21,
   "id": "c79ebeca-c4f1-456e-a1ba-db2f4ddaddc9",
   "metadata": {},
   "outputs": [],
   "source": [
    "#Add new key-value pairs"
   ]
  },
  {
   "cell_type": "code",
   "execution_count": 22,
   "id": "0bc8cf1d-e4c3-410c-a942-b5c5e0056bd1",
   "metadata": {},
   "outputs": [
    {
     "data": {
      "text/plain": [
       "{'Name': 'Shashi', 'Gender': 'Female'}"
      ]
     },
     "execution_count": 22,
     "metadata": {},
     "output_type": "execute_result"
    }
   ],
   "source": [
    "D"
   ]
  },
  {
   "cell_type": "code",
   "execution_count": 23,
   "id": "b4ee9fd3-d580-4f6e-b11b-4ffa640b4e7e",
   "metadata": {},
   "outputs": [],
   "source": [
    "D['Age']= 21"
   ]
  },
  {
   "cell_type": "code",
   "execution_count": 24,
   "id": "b38ff3bc-dd8c-410b-baf3-682f3f6035b6",
   "metadata": {},
   "outputs": [
    {
     "data": {
      "text/plain": [
       "{'Name': 'Shashi', 'Gender': 'Female', 'Age': 21}"
      ]
     },
     "execution_count": 24,
     "metadata": {},
     "output_type": "execute_result"
    }
   ],
   "source": [
    "D"
   ]
  },
  {
   "cell_type": "code",
   "execution_count": 25,
   "id": "982f3be6-c125-4343-9cb7-27d016e75126",
   "metadata": {},
   "outputs": [],
   "source": [
    "#Delete"
   ]
  },
  {
   "cell_type": "code",
   "execution_count": 26,
   "id": "b4d2ae32-dd26-42ae-afd2-bd79367fe744",
   "metadata": {},
   "outputs": [
    {
     "data": {
      "text/plain": [
       "{'Name': 'Shashi', 'Gender': 'Female', 'Age': 21}"
      ]
     },
     "execution_count": 26,
     "metadata": {},
     "output_type": "execute_result"
    }
   ],
   "source": [
    "D"
   ]
  },
  {
   "cell_type": "code",
   "execution_count": 27,
   "id": "4aff907e-65c1-43d3-9321-3e1d69937b82",
   "metadata": {},
   "outputs": [],
   "source": [
    "D5 = {}"
   ]
  },
  {
   "cell_type": "code",
   "execution_count": 29,
   "id": "17cd3f7f-b9be-43bc-9101-260ae04fe34f",
   "metadata": {},
   "outputs": [],
   "source": [
    "del D5"
   ]
  },
  {
   "cell_type": "code",
   "execution_count": 31,
   "id": "e13caf42-a0ff-44ae-b0b0-b9faf143e754",
   "metadata": {},
   "outputs": [
    {
     "name": "stdout",
     "output_type": "stream",
     "text": [
      "Name\n",
      "Gender\n",
      "Age\n"
     ]
    }
   ],
   "source": [
    "for i in D:\n",
    "    print(i)"
   ]
  },
  {
   "cell_type": "code",
   "execution_count": 33,
   "id": "b0b8aeaf-a7ac-45c4-b84d-367c0d86fe88",
   "metadata": {},
   "outputs": [
    {
     "data": {
      "text/plain": [
       "3"
      ]
     },
     "execution_count": 33,
     "metadata": {},
     "output_type": "execute_result"
    }
   ],
   "source": [
    "len(D)"
   ]
  },
  {
   "cell_type": "code",
   "execution_count": null,
   "id": "0e567afc-eebb-4539-ae59-e309edfe1381",
   "metadata": {},
   "outputs": [],
   "source": []
  }
 ],
 "metadata": {
  "kernelspec": {
   "display_name": "Python 3 (ipykernel)",
   "language": "python",
   "name": "python3"
  },
  "language_info": {
   "codemirror_mode": {
    "name": "ipython",
    "version": 3
   },
   "file_extension": ".py",
   "mimetype": "text/x-python",
   "name": "python",
   "nbconvert_exporter": "python",
   "pygments_lexer": "ipython3",
   "version": "3.11.5"
  }
 },
 "nbformat": 4,
 "nbformat_minor": 5
}
