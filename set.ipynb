{
 "cells": [
  {
   "cell_type": "code",
   "execution_count": 1,
   "id": "1b489857-3cbb-4a67-ac39-18caed5f2bd7",
   "metadata": {},
   "outputs": [],
   "source": [
    "# sets do not allow duplicates"
   ]
  },
  {
   "cell_type": "code",
   "execution_count": 2,
   "id": "6e635765-2186-4904-a8b2-634aaa00985b",
   "metadata": {},
   "outputs": [],
   "source": [
    "# sets have no indexing "
   ]
  },
  {
   "cell_type": "code",
   "execution_count": 3,
   "id": "f211a9b6-a5e7-4094-9db7-95f495ce0520",
   "metadata": {},
   "outputs": [],
   "source": [
    "# sets dont allow mutable data types "
   ]
  },
  {
   "cell_type": "code",
   "execution_count": 4,
   "id": "95148e2e-492f-4f08-a0b9-f37ce0a97a6f",
   "metadata": {},
   "outputs": [],
   "source": [
    "# set itself is a mutable data type"
   ]
  },
  {
   "cell_type": "code",
   "execution_count": null,
   "id": "4876fbc2-da14-461c-9cf6-dc3f28e37751",
   "metadata": {},
   "outputs": [],
   "source": []
  }
 ],
 "metadata": {
  "kernelspec": {
   "display_name": "Python 3 (ipykernel)",
   "language": "python",
   "name": "python3"
  },
  "language_info": {
   "codemirror_mode": {
    "name": "ipython",
    "version": 3
   },
   "file_extension": ".py",
   "mimetype": "text/x-python",
   "name": "python",
   "nbconvert_exporter": "python",
   "pygments_lexer": "ipython3",
   "version": "3.11.4"
  }
 },
 "nbformat": 4,
 "nbformat_minor": 5
}
