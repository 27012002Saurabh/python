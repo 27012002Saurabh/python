{
 "cells": [
  {
   "cell_type": "markdown",
   "id": "e7529e49-17a0-49ea-bc1c-a18bdbb726a4",
   "metadata": {},
   "source": [
    " Python supports 3 categories of data types:\n",
    " \n",
    "  . Basic Types -(integer, float, complex, boolean and string)\n",
    "  \n",
    "  . Container Types - (List, Tuples , Sets and Dictonary)\n",
    "  \n",
    "  . User-defined Types - class"
   ]
  },
  {
   "cell_type": "code",
   "execution_count": 4,
   "id": "2daf97b9-84ce-4295-8c93-4befe065621c",
   "metadata": {},
   "outputs": [
    {
     "name": "stdout",
     "output_type": "stream",
     "text": [
      "4\n",
      "inf\n"
     ]
    }
   ],
   "source": [
    "# integer\n",
    "print(4)\n",
    "print(1e309)"
   ]
  },
  {
   "cell_type": "code",
   "execution_count": 5,
   "id": "6c6f00ee-7d1d-4591-b681-d03351089020",
   "metadata": {},
   "outputs": [
    {
     "name": "stdout",
     "output_type": "stream",
     "text": [
      "4.5\n"
     ]
    }
   ],
   "source": [
    "# float\n",
    "print(4.5)"
   ]
  },
  {
   "cell_type": "code",
   "execution_count": 7,
   "id": "6fd16113-dd3f-48f6-b65d-ec36985a6b8b",
   "metadata": {},
   "outputs": [
    {
     "name": "stdout",
     "output_type": "stream",
     "text": [
      "True\n",
      "False\n"
     ]
    }
   ],
   "source": [
    "# boolean\n",
    "print(True)\n",
    "print(False)"
   ]
  },
  {
   "cell_type": "code",
   "execution_count": 8,
   "id": "8cdd4f0a-1876-49d2-b20d-f494be4adf9d",
   "metadata": {},
   "outputs": [
    {
     "name": "stdout",
     "output_type": "stream",
     "text": [
      "(4+5j)\n"
     ]
    }
   ],
   "source": [
    "# complex \n",
    "print(4+5j)"
   ]
  },
  {
   "cell_type": "code",
   "execution_count": 11,
   "id": "ca81d9bb-c175-4fc5-bd6e-8cfbeec12e22",
   "metadata": {},
   "outputs": [
    {
     "name": "stdout",
     "output_type": "stream",
     "text": [
      "kolkata\n",
      "Kolkata\n",
      "Kolkata\n"
     ]
    }
   ],
   "source": [
    "# string\n",
    "print('kolkata')\n",
    "print(\"Kolkata\")\n",
    "print(\"\"\"Kolkata\"\"\")"
   ]
  },
  {
   "cell_type": "code",
   "execution_count": 12,
   "id": "3889fb78-34aa-467d-969c-5e0ef1ee48d9",
   "metadata": {},
   "outputs": [
    {
     "name": "stdout",
     "output_type": "stream",
     "text": [
      "[1, 2, 3, 4, 5]\n"
     ]
    }
   ],
   "source": [
    "# list\n",
    "print([1, 2,3,4,5])"
   ]
  },
  {
   "cell_type": "code",
   "execution_count": 13,
   "id": "6f89464e-da06-439b-b777-e7d3e4806cde",
   "metadata": {},
   "outputs": [
    {
     "name": "stdout",
     "output_type": "stream",
     "text": [
      "(1, 2, 3, 4)\n"
     ]
    }
   ],
   "source": [
    "# tuple \n",
    "print((1,2,3,4))"
   ]
  },
  {
   "cell_type": "code",
   "execution_count": 14,
   "id": "25b6cab1-1062-42f0-98e8-562f3ba8b7af",
   "metadata": {},
   "outputs": [
    {
     "name": "stdout",
     "output_type": "stream",
     "text": [
      "{1, 2, 3, 4}\n"
     ]
    }
   ],
   "source": [
    "# sets\n",
    "print({1,2,3,4})"
   ]
  },
  {
   "cell_type": "code",
   "execution_count": 16,
   "id": "767257c6-ded5-4aca-9879-57bce37ac11b",
   "metadata": {},
   "outputs": [
    {
     "name": "stdout",
     "output_type": "stream",
     "text": [
      "{'Name': 'Saurabh', 'Age': 30, 'gender': 'male'}\n"
     ]
    }
   ],
   "source": [
    "# dict\n",
    "print({\"Name\":\"Saurabh\",\"Age\":30,\"gender\":\"male\"})"
   ]
  },
  {
   "cell_type": "code",
   "execution_count": null,
   "id": "4593f664-a95e-48eb-be67-ede42a9b4e73",
   "metadata": {},
   "outputs": [],
   "source": []
  }
 ],
 "metadata": {
  "kernelspec": {
   "display_name": "Python 3 (ipykernel)",
   "language": "python",
   "name": "python3"
  },
  "language_info": {
   "codemirror_mode": {
    "name": "ipython",
    "version": 3
   },
   "file_extension": ".py",
   "mimetype": "text/x-python",
   "name": "python",
   "nbconvert_exporter": "python",
   "pygments_lexer": "ipython3",
   "version": "3.11.4"
  }
 },
 "nbformat": 4,
 "nbformat_minor": 5
}
