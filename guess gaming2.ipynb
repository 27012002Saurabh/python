{
 "cells": [
  {
   "cell_type": "code",
   "execution_count": 1,
   "id": "36d245fb-c7e9-4cc9-af03-9b968e551654",
   "metadata": {},
   "outputs": [],
   "source": [
    "import random"
   ]
  },
  {
   "cell_type": "code",
   "execution_count": 3,
   "id": "b08c1e4c-6a27-41bd-b181-587ef96c7b24",
   "metadata": {},
   "outputs": [
    {
     "data": {
      "text/plain": [
       "66"
      ]
     },
     "execution_count": 3,
     "metadata": {},
     "output_type": "execute_result"
    }
   ],
   "source": [
    "random.randint(1,100)"
   ]
  },
  {
   "cell_type": "code",
   "execution_count": 15,
   "id": "3ce165ee-2cfe-415a-b4a1-e69c6c6af501",
   "metadata": {},
   "outputs": [
    {
     "name": "stdin",
     "output_type": "stream",
     "text": [
      "chal guess kar 55\n"
     ]
    },
    {
     "name": "stdout",
     "output_type": "stream",
     "text": [
      "Guess higher\n"
     ]
    },
    {
     "name": "stdin",
     "output_type": "stream",
     "text": [
      "chal guess kar 56\n"
     ]
    },
    {
     "name": "stdout",
     "output_type": "stream",
     "text": [
      "Guess higher\n"
     ]
    },
    {
     "name": "stdin",
     "output_type": "stream",
     "text": [
      "chal guess kar 58\n"
     ]
    },
    {
     "name": "stdout",
     "output_type": "stream",
     "text": [
      "sahi jawab\n",
      "sahi jawab 3 attempts\n"
     ]
    }
   ],
   "source": [
    "jackpot = random.randint(1,100)\n",
    "counter = 1\n",
    "guess = int(input(\"chal guess kar\"))\n",
    "\n",
    "while guess != jackpot:\n",
    "    if guess<jackpot:\n",
    "        print(\"Guess higher\")\n",
    "    else:\n",
    "        print(\"Guess lower\")\n",
    "        \n",
    "    guess = int(input(\"chal guess kar\"))\n",
    "    counter +=1\n",
    "print(\"sahi jawab\")\n",
    "print(\"sahi jawab\", counter ,\"attempts\")\n"
   ]
  },
  {
   "cell_type": "code",
   "execution_count": null,
   "id": "1ba3d527-446a-4088-9a24-780214a5bde4",
   "metadata": {},
   "outputs": [],
   "source": []
  }
 ],
 "metadata": {
  "kernelspec": {
   "display_name": "Python 3 (ipykernel)",
   "language": "python",
   "name": "python3"
  },
  "language_info": {
   "codemirror_mode": {
    "name": "ipython",
    "version": 3
   },
   "file_extension": ".py",
   "mimetype": "text/x-python",
   "name": "python",
   "nbconvert_exporter": "python",
   "pygments_lexer": "ipython3",
   "version": "3.11.4"
  }
 },
 "nbformat": 4,
 "nbformat_minor": 5
}
