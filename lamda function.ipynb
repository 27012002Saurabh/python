{
 "cells": [
  {
   "cell_type": "code",
   "execution_count": 1,
   "id": "690fbbc8-c2ba-4cc9-ae7b-6f159de209d6",
   "metadata": {},
   "outputs": [],
   "source": [
    "# Lambda functions\n"
   ]
  },
  {
   "cell_type": "code",
   "execution_count": 2,
   "id": "b33ae896-f72b-46c3-b86a-8785f6776680",
   "metadata": {},
   "outputs": [],
   "source": [
    "#lambda input: expression"
   ]
  },
  {
   "cell_type": "code",
   "execution_count": 3,
   "id": "0cacbcb1-9623-417d-8c9a-57df8cdf41bf",
   "metadata": {},
   "outputs": [],
   "source": [
    "x = lambda x:x**2"
   ]
  },
  {
   "cell_type": "code",
   "execution_count": 4,
   "id": "f0fb7dbc-ee09-41e3-8eed-f766f7d441cc",
   "metadata": {},
   "outputs": [
    {
     "data": {
      "text/plain": [
       "81"
      ]
     },
     "execution_count": 4,
     "metadata": {},
     "output_type": "execute_result"
    }
   ],
   "source": [
    "x(9)"
   ]
  },
  {
   "cell_type": "code",
   "execution_count": 5,
   "id": "387a2ad1-da41-4e67-bfa6-f511445b9954",
   "metadata": {},
   "outputs": [],
   "source": [
    "a = lambda x,y:x+y"
   ]
  },
  {
   "cell_type": "code",
   "execution_count": 6,
   "id": "2675860e-6cde-4980-84dd-b36e4f6db5a6",
   "metadata": {},
   "outputs": [
    {
     "data": {
      "text/plain": [
       "8"
      ]
     },
     "execution_count": 6,
     "metadata": {},
     "output_type": "execute_result"
    }
   ],
   "source": [
    "a(4,4)"
   ]
  },
  {
   "cell_type": "code",
   "execution_count": 7,
   "id": "8b5000fa-8c6e-4569-ad41-bbed368066ad",
   "metadata": {},
   "outputs": [
    {
     "data": {
      "text/plain": [
       "function"
      ]
     },
     "execution_count": 7,
     "metadata": {},
     "output_type": "execute_result"
    }
   ],
   "source": [
    "# Difference\n",
    "#1. Lambda has no return value\n",
    "type(a)"
   ]
  },
  {
   "cell_type": "code",
   "execution_count": 8,
   "id": "abd83642-7386-4494-bd64-8a6985280a65",
   "metadata": {},
   "outputs": [],
   "source": [
    "#2.One line\n",
    "#3.not used for code reusability\n",
    "#4.No name"
   ]
  },
  {
   "cell_type": "code",
   "execution_count": 9,
   "id": "f64ef9fb-2d52-4224-8971-ba1085761931",
   "metadata": {},
   "outputs": [],
   "source": [
    "#why?\n",
    "#Along with higher order functions "
   ]
  },
  {
   "cell_type": "code",
   "execution_count": 10,
   "id": "dddacd85-85d8-4955-a148-095cc57e9b39",
   "metadata": {},
   "outputs": [],
   "source": [
    "b = lambda x:x[0]==\"a\""
   ]
  },
  {
   "cell_type": "code",
   "execution_count": 12,
   "id": "6a3fae0b-2695-46a1-9750-371aab94dfb0",
   "metadata": {},
   "outputs": [
    {
     "data": {
      "text/plain": [
       "True"
      ]
     },
     "execution_count": 12,
     "metadata": {},
     "output_type": "execute_result"
    }
   ],
   "source": [
    "b('apple')"
   ]
  },
  {
   "cell_type": "code",
   "execution_count": 13,
   "id": "fc7be0bf-e47c-43b5-8a51-1590d57dbfdb",
   "metadata": {},
   "outputs": [],
   "source": [
    "c = lambda x: 'Even' if x%2 == 0 else \"odd\""
   ]
  },
  {
   "cell_type": "code",
   "execution_count": 14,
   "id": "6edaa96c-1174-4b85-becc-2893bfb7fad3",
   "metadata": {},
   "outputs": [
    {
     "data": {
      "text/plain": [
       "'odd'"
      ]
     },
     "execution_count": 14,
     "metadata": {},
     "output_type": "execute_result"
    }
   ],
   "source": [
    "c(3)"
   ]
  },
  {
   "cell_type": "code",
   "execution_count": 22,
   "id": "453bd6c0-df8e-48d6-a3a3-7b7aef1546e5",
   "metadata": {},
   "outputs": [],
   "source": [
    "#Map\n",
    "#filter\n",
    "#Reduce"
   ]
  },
  {
   "cell_type": "code",
   "execution_count": 23,
   "id": "06defb13-253e-4ced-b0eb-623202ead5a2",
   "metadata": {},
   "outputs": [],
   "source": [
    "#Map"
   ]
  },
  {
   "cell_type": "code",
   "execution_count": 24,
   "id": "644bf497-472d-4df9-bcea-70b40edd22cf",
   "metadata": {},
   "outputs": [
    {
     "data": {
      "text/plain": [
       "[1, 2, 3, 4, 5, 6, 7]"
      ]
     },
     "execution_count": 24,
     "metadata": {},
     "output_type": "execute_result"
    }
   ],
   "source": [
    "L = [1,2,3,4,5,6,7]\n",
    "L"
   ]
  },
  {
   "cell_type": "code",
   "execution_count": 25,
   "id": "313ea66b-95f4-49fa-8598-95d890284fd3",
   "metadata": {},
   "outputs": [
    {
     "data": {
      "text/plain": [
       "[2, 4, 6, 8, 10, 12, 14]"
      ]
     },
     "execution_count": 25,
     "metadata": {},
     "output_type": "execute_result"
    }
   ],
   "source": [
    "list(map(lambda x: x*2,L))"
   ]
  },
  {
   "cell_type": "code",
   "execution_count": 26,
   "id": "5ddec5ee-9608-449b-8893-40db0f15a86f",
   "metadata": {},
   "outputs": [
    {
     "data": {
      "text/plain": [
       "[False, True, False, True, False, True, False]"
      ]
     },
     "execution_count": 26,
     "metadata": {},
     "output_type": "execute_result"
    }
   ],
   "source": [
    "list(map(lambda x: x%2==0,L))"
   ]
  },
  {
   "cell_type": "code",
   "execution_count": 27,
   "id": "afcce90a-eb54-4177-9da8-a2d41b5b758d",
   "metadata": {},
   "outputs": [],
   "source": [
    "# Filter"
   ]
  },
  {
   "cell_type": "code",
   "execution_count": 28,
   "id": "90aade24-deb8-42b4-827d-0ea64e3b9202",
   "metadata": {},
   "outputs": [],
   "source": [
    "L = [1,2,3,4,5,6,7]"
   ]
  },
  {
   "cell_type": "code",
   "execution_count": 29,
   "id": "bfcd2055-3227-4a49-b876-a555fb28b388",
   "metadata": {},
   "outputs": [
    {
     "data": {
      "text/plain": [
       "[5, 6, 7]"
      ]
     },
     "execution_count": 29,
     "metadata": {},
     "output_type": "execute_result"
    }
   ],
   "source": [
    "list(filter(lambda x: x>4,L))"
   ]
  },
  {
   "cell_type": "code",
   "execution_count": 30,
   "id": "310405f3-b2c5-40f5-afd8-5663cdae302e",
   "metadata": {},
   "outputs": [],
   "source": [
    "fruits = ['Apple','Orange','Mango','Guava']"
   ]
  },
  {
   "cell_type": "code",
   "execution_count": 31,
   "id": "93b83d35-31a4-406c-acd6-05068162356a",
   "metadata": {},
   "outputs": [
    {
     "data": {
      "text/plain": [
       "['Apple', 'Orange']"
      ]
     },
     "execution_count": 31,
     "metadata": {},
     "output_type": "execute_result"
    }
   ],
   "source": [
    "list(filter(lambda fruit:'e' in fruit, fruits))"
   ]
  },
  {
   "cell_type": "code",
   "execution_count": 32,
   "id": "9c4fe45b-f4b2-4e9d-9550-9f97c27e0a1c",
   "metadata": {},
   "outputs": [],
   "source": [
    "# Reduce"
   ]
  },
  {
   "cell_type": "code",
   "execution_count": 33,
   "id": "6e4e5a79-0c7e-4f1c-8b3c-b52ec9e56c33",
   "metadata": {},
   "outputs": [],
   "source": [
    "import functools"
   ]
  },
  {
   "cell_type": "code",
   "execution_count": 34,
   "id": "471fb6ca-6b87-46f9-b39e-f06fd11d6372",
   "metadata": {},
   "outputs": [
    {
     "data": {
      "text/plain": [
       "[1, 2, 3, 4, 5, 6, 7]"
      ]
     },
     "execution_count": 34,
     "metadata": {},
     "output_type": "execute_result"
    }
   ],
   "source": [
    "L"
   ]
  },
  {
   "cell_type": "code",
   "execution_count": 35,
   "id": "2035ea63-ca0e-44e6-a0b7-6e9af687aa56",
   "metadata": {},
   "outputs": [
    {
     "data": {
      "text/plain": [
       "28"
      ]
     },
     "execution_count": 35,
     "metadata": {},
     "output_type": "execute_result"
    }
   ],
   "source": [
    "functools.reduce(lambda x,y:x+y,L)"
   ]
  },
  {
   "cell_type": "code",
   "execution_count": 36,
   "id": "d755d82f-5ca3-4a8e-9317-2114550b905d",
   "metadata": {},
   "outputs": [],
   "source": [
    "L1 = [12,34,56,11,21,58]\n"
   ]
  },
  {
   "cell_type": "code",
   "execution_count": 37,
   "id": "b993fe25-ec83-41ef-be23-5f0225a58ed5",
   "metadata": {},
   "outputs": [
    {
     "data": {
      "text/plain": [
       "58"
      ]
     },
     "execution_count": 37,
     "metadata": {},
     "output_type": "execute_result"
    }
   ],
   "source": [
    "functools.reduce(lambda x,y: x if x>y else y,L1)"
   ]
  },
  {
   "cell_type": "code",
   "execution_count": 39,
   "id": "a7cffd0d-475a-4628-a765-bdd152840a56",
   "metadata": {},
   "outputs": [
    {
     "data": {
      "text/plain": [
       "11"
      ]
     },
     "execution_count": 39,
     "metadata": {},
     "output_type": "execute_result"
    }
   ],
   "source": [
    "functools.reduce(lambda x,y: x if x<y else y,L1)"
   ]
  },
  {
   "cell_type": "code",
   "execution_count": 1,
   "id": "47bc459f-b978-4167-9eb7-9c99628269f0",
   "metadata": {},
   "outputs": [],
   "source": [
    "# List compression"
   ]
  },
  {
   "cell_type": "code",
   "execution_count": 5,
   "id": "6c2241e7-1458-40b3-9102-c4ca7c2205c6",
   "metadata": {},
   "outputs": [],
   "source": [
    "fruits = ['Apple','Orange','Mango','Guava']"
   ]
  },
  {
   "cell_type": "code",
   "execution_count": 6,
   "id": "80c84aeb-401b-42eb-bb4c-2a2c09dc0d91",
   "metadata": {},
   "outputs": [],
   "source": [
    "L4 = [fruit for fruit in fruits if fruit[0]=='O']"
   ]
  },
  {
   "cell_type": "code",
   "execution_count": 7,
   "id": "2162d889-529c-4c0e-a67c-6acedbee2a78",
   "metadata": {},
   "outputs": [
    {
     "data": {
      "text/plain": [
       "['Orange']"
      ]
     },
     "execution_count": 7,
     "metadata": {},
     "output_type": "execute_result"
    }
   ],
   "source": [
    "L4"
   ]
  },
  {
   "cell_type": "code",
   "execution_count": 8,
   "id": "b7c16bf2-f97f-42f0-b3ff-f28a6c6e2e5c",
   "metadata": {},
   "outputs": [],
   "source": [
    "D = {\"Name\": \"Saurabh\", \"Gender\": \"Male\",\"Age\":30}"
   ]
  },
  {
   "cell_type": "code",
   "execution_count": 9,
   "id": "7736f38a-ecba-44cb-b62e-3937e92a91a8",
   "metadata": {},
   "outputs": [
    {
     "data": {
      "text/plain": [
       "{'Name': 'Saurabh', 'Gender': 'Male', 'Age': 30}"
      ]
     },
     "execution_count": 9,
     "metadata": {},
     "output_type": "execute_result"
    }
   ],
   "source": [
    "D"
   ]
  },
  {
   "cell_type": "code",
   "execution_count": 10,
   "id": "22859e3b-52af-44e4-9aa1-fb1a558e0010",
   "metadata": {},
   "outputs": [
    {
     "data": {
      "text/plain": [
       "dict_items([('Name', 'Saurabh'), ('Gender', 'Male'), ('Age', 30)])"
      ]
     },
     "execution_count": 10,
     "metadata": {},
     "output_type": "execute_result"
    }
   ],
   "source": [
    "D.items()"
   ]
  },
  {
   "cell_type": "code",
   "execution_count": 12,
   "id": "ef8cca11-5251-4cef-9182-25c6a1eb2f1e",
   "metadata": {},
   "outputs": [],
   "source": [
    "D1 = {key:value for key,value in D.items() if len(key) > 3}"
   ]
  },
  {
   "cell_type": "code",
   "execution_count": 13,
   "id": "e7585517-83f4-45e5-be48-b686b560187a",
   "metadata": {},
   "outputs": [
    {
     "data": {
      "text/plain": [
       "{'Name': 'Saurabh', 'Gender': 'Male'}"
      ]
     },
     "execution_count": 13,
     "metadata": {},
     "output_type": "execute_result"
    }
   ],
   "source": [
    "D1"
   ]
  },
  {
   "cell_type": "code",
   "execution_count": null,
   "id": "1ea42a36-5ea6-42a6-9026-3e89bd2fffea",
   "metadata": {},
   "outputs": [],
   "source": []
  }
 ],
 "metadata": {
  "kernelspec": {
   "display_name": "Python 3 (ipykernel)",
   "language": "python",
   "name": "python3"
  },
  "language_info": {
   "codemirror_mode": {
    "name": "ipython",
    "version": 3
   },
   "file_extension": ".py",
   "mimetype": "text/x-python",
   "name": "python",
   "nbconvert_exporter": "python",
   "pygments_lexer": "ipython3",
   "version": "3.11.5"
  }
 },
 "nbformat": 4,
 "nbformat_minor": 5
}
