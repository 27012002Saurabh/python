{
 "cells": [
  {
   "cell_type": "code",
   "execution_count": 2,
   "id": "6cacf1ca-7adf-4c62-98b6-c5df885cdf04",
   "metadata": {},
   "outputs": [],
   "source": [
    "name = (\"Hello World\")"
   ]
  },
  {
   "cell_type": "code",
   "execution_count": 3,
   "id": "ebc93824-74ab-4a2c-b931-29f7931d7664",
   "metadata": {},
   "outputs": [
    {
     "name": "stdout",
     "output_type": "stream",
     "text": [
      "Hello World\n"
     ]
    }
   ],
   "source": [
    "print(name)"
   ]
  },
  {
   "cell_type": "code",
   "execution_count": 4,
   "id": "31882b2b-1f78-4a5e-95ce-4b224daf1cb1",
   "metadata": {},
   "outputs": [],
   "source": [
    "name = 'Saurabh'"
   ]
  },
  {
   "cell_type": "code",
   "execution_count": 5,
   "id": "3c080967-1c1c-4d2a-87a8-f8e966db753e",
   "metadata": {},
   "outputs": [
    {
     "name": "stdout",
     "output_type": "stream",
     "text": [
      "Saurabh\n"
     ]
    }
   ],
   "source": [
    "print(name)"
   ]
  },
  {
   "cell_type": "code",
   "execution_count": 7,
   "id": "a913ce59-b8d2-4f22-9602-1079f3439d53",
   "metadata": {},
   "outputs": [
    {
     "name": "stdout",
     "output_type": "stream",
     "text": [
      "Saurabh\n"
     ]
    }
   ],
   "source": [
    "print('Saurabh')"
   ]
  },
  {
   "cell_type": "code",
   "execution_count": 8,
   "id": "f21d103e-1d0f-4cea-8cc4-7d0527b36c35",
   "metadata": {},
   "outputs": [
    {
     "name": "stdout",
     "output_type": "stream",
     "text": [
      "India pakistan Nepal\n"
     ]
    }
   ],
   "source": [
    "print(\"India\", \"pakistan\", \"Nepal\")"
   ]
  },
  {
   "cell_type": "code",
   "execution_count": 10,
   "id": "adf67b18-546c-45d5-af4f-1ef7168c09e1",
   "metadata": {},
   "outputs": [
    {
     "name": "stdout",
     "output_type": "stream",
     "text": [
      "India 5 True\n"
     ]
    }
   ],
   "source": [
    "print(\"India\" , 5, True)"
   ]
  },
  {
   "cell_type": "code",
   "execution_count": 11,
   "id": "11986506-efc2-48c4-b129-1773a1ae7a2a",
   "metadata": {},
   "outputs": [
    {
     "name": "stdout",
     "output_type": "stream",
     "text": [
      "hellow\n",
      "world\n"
     ]
    }
   ],
   "source": [
    "print(\"hellow\")\n",
    "print(\"world\")"
   ]
  },
  {
   "cell_type": "code",
   "execution_count": 14,
   "id": "af89eb7d-e272-4594-a4b6-c6bbb00f2416",
   "metadata": {},
   "outputs": [
    {
     "name": "stdout",
     "output_type": "stream",
     "text": [
      "hellow world\n"
     ]
    }
   ],
   "source": [
    "print(\"hellow\",end=' ')\n",
    "print(\"world\")"
   ]
  },
  {
   "cell_type": "code",
   "execution_count": null,
   "id": "fbe95618-7507-49ce-8e9a-c327c6754300",
   "metadata": {},
   "outputs": [],
   "source": [
    "print()"
   ]
  }
 ],
 "metadata": {
  "kernelspec": {
   "display_name": "Python 3 (ipykernel)",
   "language": "python",
   "name": "python3"
  },
  "language_info": {
   "codemirror_mode": {
    "name": "ipython",
    "version": 3
   },
   "file_extension": ".py",
   "mimetype": "text/x-python",
   "name": "python",
   "nbconvert_exporter": "python",
   "pygments_lexer": "ipython3",
   "version": "3.11.4"
  }
 },
 "nbformat": 4,
 "nbformat_minor": 5
}
