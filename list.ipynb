{
 "cells": [
  {
   "cell_type": "markdown",
   "id": "c0ac9f10-8be3-4951-8d0f-b2816acbd489",
   "metadata": {},
   "source": [
    "# create list"
   ]
  },
  {
   "cell_type": "code",
   "execution_count": 2,
   "id": "93134f84-231a-49cd-8fd2-bb806bb741fa",
   "metadata": {},
   "outputs": [],
   "source": [
    "L = []"
   ]
  },
  {
   "cell_type": "code",
   "execution_count": 3,
   "id": "e5a37dcb-857c-4b15-bd65-33bc212c2452",
   "metadata": {},
   "outputs": [],
   "source": [
    "L = [\"hello\",1 ,3.4 , 5+6j]"
   ]
  },
  {
   "cell_type": "code",
   "execution_count": 5,
   "id": "cce7e659-ec38-4c93-a331-9c49e971b682",
   "metadata": {},
   "outputs": [],
   "source": [
    "# multi dim list 2D"
   ]
  },
  {
   "cell_type": "code",
   "execution_count": 6,
   "id": "1b5b50bc-a5d0-440c-b5cd-8cf2bb3c806f",
   "metadata": {},
   "outputs": [
    {
     "data": {
      "text/plain": [
       "[1, 2, [1, 2]]"
      ]
     },
     "execution_count": 6,
     "metadata": {},
     "output_type": "execute_result"
    }
   ],
   "source": [
    "L3 = [1 ,2 , [1,2]]\n",
    "L3"
   ]
  },
  {
   "cell_type": "code",
   "execution_count": 7,
   "id": "3f473f89-4239-4d8e-a8c4-971bd7a57aaf",
   "metadata": {},
   "outputs": [],
   "source": [
    "# 3D "
   ]
  },
  {
   "cell_type": "code",
   "execution_count": 8,
   "id": "b14f399f-9227-4bb7-8ae7-1edb7acef151",
   "metadata": {},
   "outputs": [
    {
     "data": {
      "text/plain": [
       "[[[1, 4], [2, 4]]]"
      ]
     },
     "execution_count": 8,
     "metadata": {},
     "output_type": "execute_result"
    }
   ],
   "source": [
    "L4 = [[[1,4],[2,4]]]\n",
    "L4"
   ]
  },
  {
   "cell_type": "code",
   "execution_count": 9,
   "id": "560a6b44-73f0-4382-a65f-59d1ed591aad",
   "metadata": {},
   "outputs": [],
   "source": [
    "L5 = list(\"Haldia\")"
   ]
  },
  {
   "cell_type": "code",
   "execution_count": 10,
   "id": "8c932020-ec6b-4fc5-9792-575f31e0ef4e",
   "metadata": {},
   "outputs": [
    {
     "data": {
      "text/plain": [
       "['H', 'a', 'l', 'd', 'i', 'a']"
      ]
     },
     "execution_count": 10,
     "metadata": {},
     "output_type": "execute_result"
    }
   ],
   "source": [
    "L5"
   ]
  },
  {
   "cell_type": "markdown",
   "id": "04f52b7c-7110-4686-823c-d07a98fe75a9",
   "metadata": {},
   "source": [
    "# access"
   ]
  },
  {
   "cell_type": "code",
   "execution_count": 11,
   "id": "1d611990-6543-4cf0-96fc-164572a1b587",
   "metadata": {},
   "outputs": [
    {
     "data": {
      "text/plain": [
       "['hello', 1, 3.4, (5+6j)]"
      ]
     },
     "execution_count": 11,
     "metadata": {},
     "output_type": "execute_result"
    }
   ],
   "source": [
    "L"
   ]
  },
  {
   "cell_type": "code",
   "execution_count": 12,
   "id": "c73cce19-a564-4923-8695-7786603de87e",
   "metadata": {},
   "outputs": [
    {
     "data": {
      "text/plain": [
       "[1, 2, 4, 5]"
      ]
     },
     "execution_count": 12,
     "metadata": {},
     "output_type": "execute_result"
    }
   ],
   "source": [
    "L1 = [1,2,4,5]\n",
    "L1"
   ]
  },
  {
   "cell_type": "code",
   "execution_count": 13,
   "id": "1ed73649-68de-4828-999b-ebeb69fa4227",
   "metadata": {},
   "outputs": [
    {
     "data": {
      "text/plain": [
       "'hello'"
      ]
     },
     "execution_count": 13,
     "metadata": {},
     "output_type": "execute_result"
    }
   ],
   "source": [
    "L[0]"
   ]
  },
  {
   "cell_type": "code",
   "execution_count": 14,
   "id": "ce24a72e-76fb-44e9-aded-8d54ef0f4fdf",
   "metadata": {},
   "outputs": [
    {
     "data": {
      "text/plain": [
       "[1, 2, [1, 2]]"
      ]
     },
     "execution_count": 14,
     "metadata": {},
     "output_type": "execute_result"
    }
   ],
   "source": [
    "L3"
   ]
  },
  {
   "cell_type": "code",
   "execution_count": 19,
   "id": "c0cc2c6a-2713-440a-9852-beb753280b50",
   "metadata": {},
   "outputs": [],
   "source": [
    " x = L3[-1]"
   ]
  },
  {
   "cell_type": "code",
   "execution_count": 20,
   "id": "49abe2e0-d1fb-4e5a-9ae0-5386e980964f",
   "metadata": {},
   "outputs": [
    {
     "data": {
      "text/plain": [
       "1"
      ]
     },
     "execution_count": 20,
     "metadata": {},
     "output_type": "execute_result"
    }
   ],
   "source": [
    "x[0]"
   ]
  },
  {
   "cell_type": "code",
   "execution_count": 21,
   "id": "589f52ed-0a22-4dee-91d2-4eddf3dfc804",
   "metadata": {},
   "outputs": [
    {
     "data": {
      "text/plain": [
       "1"
      ]
     },
     "execution_count": 21,
     "metadata": {},
     "output_type": "execute_result"
    }
   ],
   "source": [
    "L3[-1][0]"
   ]
  },
  {
   "cell_type": "code",
   "execution_count": 22,
   "id": "25357ee2-21a3-4776-863b-8883b8241104",
   "metadata": {},
   "outputs": [
    {
     "data": {
      "text/plain": [
       "[[[1, 4], [2, 4]]]"
      ]
     },
     "execution_count": 22,
     "metadata": {},
     "output_type": "execute_result"
    }
   ],
   "source": [
    "L4"
   ]
  },
  {
   "cell_type": "code",
   "execution_count": 24,
   "id": "308fcdaa-ab93-43a9-9ba0-a49975afe80f",
   "metadata": {},
   "outputs": [
    {
     "data": {
      "text/plain": [
       "2"
      ]
     },
     "execution_count": 24,
     "metadata": {},
     "output_type": "execute_result"
    }
   ],
   "source": [
    "L4[-1][1][0]"
   ]
  },
  {
   "cell_type": "markdown",
   "id": "ce1e0653-4cdd-4d41-adc2-3a0e54d76894",
   "metadata": {},
   "source": [
    "# Edit"
   ]
  },
  {
   "cell_type": "code",
   "execution_count": 25,
   "id": "80894823-b315-4a97-9757-64c734ea4875",
   "metadata": {},
   "outputs": [],
   "source": [
    "L[0] = 100"
   ]
  },
  {
   "cell_type": "code",
   "execution_count": 26,
   "id": "1773189d-31ce-4fe3-84ff-4dd3f79441d4",
   "metadata": {},
   "outputs": [
    {
     "data": {
      "text/plain": [
       "[100, 1, 3.4, (5+6j)]"
      ]
     },
     "execution_count": 26,
     "metadata": {},
     "output_type": "execute_result"
    }
   ],
   "source": [
    "L"
   ]
  },
  {
   "cell_type": "code",
   "execution_count": 27,
   "id": "d5249a08-31aa-4fc4-8b02-96df609d65c5",
   "metadata": {},
   "outputs": [],
   "source": [
    "L.append(1000)"
   ]
  },
  {
   "cell_type": "code",
   "execution_count": 28,
   "id": "c40d4209-4170-44f3-805b-c0a04b72261a",
   "metadata": {},
   "outputs": [
    {
     "data": {
      "text/plain": [
       "[100, 1, 3.4, (5+6j), 1000]"
      ]
     },
     "execution_count": 28,
     "metadata": {},
     "output_type": "execute_result"
    }
   ],
   "source": [
    "L"
   ]
  },
  {
   "cell_type": "code",
   "execution_count": 29,
   "id": "4ab29e19-512f-461d-bf2f-173ec1975267",
   "metadata": {},
   "outputs": [
    {
     "data": {
      "text/plain": [
       "[100, 1, 3.4, (5+6j), 1000, 'Hello']"
      ]
     },
     "execution_count": 29,
     "metadata": {},
     "output_type": "execute_result"
    }
   ],
   "source": [
    "L.append(\"Hello\")\n",
    "L"
   ]
  },
  {
   "cell_type": "code",
   "execution_count": 30,
   "id": "0ec32b9a-8cda-4851-b0e9-a84d4a0b53be",
   "metadata": {},
   "outputs": [],
   "source": [
    "L.extend([200,500,600])"
   ]
  },
  {
   "cell_type": "code",
   "execution_count": 31,
   "id": "ba3ae68b-df2f-4c4b-ba9d-e8594d2e2bbd",
   "metadata": {},
   "outputs": [
    {
     "data": {
      "text/plain": [
       "[100, 1, 3.4, (5+6j), 1000, 'Hello', 200, 500, 600]"
      ]
     },
     "execution_count": 31,
     "metadata": {},
     "output_type": "execute_result"
    }
   ],
   "source": [
    "L"
   ]
  },
  {
   "cell_type": "code",
   "execution_count": 34,
   "id": "37ad5026-97f3-4581-8968-c3224d7f4835",
   "metadata": {},
   "outputs": [],
   "source": [
    "L.extend(\"goa\")"
   ]
  },
  {
   "cell_type": "code",
   "execution_count": 35,
   "id": "eea56c2e-3bc1-4050-bb0b-256b1515ff37",
   "metadata": {},
   "outputs": [
    {
     "data": {
      "text/plain": [
       "[100, 1, 3.4, (5+6j), 1000, 'Hello', 200, 500, 600, 'goa', 'g', 'o', 'a']"
      ]
     },
     "execution_count": 35,
     "metadata": {},
     "output_type": "execute_result"
    }
   ],
   "source": [
    "L"
   ]
  },
  {
   "cell_type": "code",
   "execution_count": 37,
   "id": "c407e2df-cb47-4aea-8e4a-e7b40d65807a",
   "metadata": {},
   "outputs": [],
   "source": [
    "L.insert(1, \"world\")"
   ]
  },
  {
   "cell_type": "code",
   "execution_count": 38,
   "id": "029e3ec0-eab0-45dd-aa96-b1b769bc2320",
   "metadata": {},
   "outputs": [
    {
     "data": {
      "text/plain": [
       "[100,\n",
       " 'world',\n",
       " 1,\n",
       " 3.4,\n",
       " (5+6j),\n",
       " 1000,\n",
       " 'Hello',\n",
       " 200,\n",
       " 500,\n",
       " 600,\n",
       " 'goa',\n",
       " 'g',\n",
       " 'o',\n",
       " 'a']"
      ]
     },
     "execution_count": 38,
     "metadata": {},
     "output_type": "execute_result"
    }
   ],
   "source": [
    "L"
   ]
  },
  {
   "cell_type": "markdown",
   "id": "18f58a46-3f46-4a13-a4a0-a52cd25621c6",
   "metadata": {},
   "source": [
    "# Delete"
   ]
  },
  {
   "cell_type": "code",
   "execution_count": 39,
   "id": "63953c00-17c8-48cc-9f6a-58e5621e009c",
   "metadata": {},
   "outputs": [
    {
     "data": {
      "text/plain": [
       "[100,\n",
       " 'world',\n",
       " 1,\n",
       " 3.4,\n",
       " (5+6j),\n",
       " 1000,\n",
       " 'Hello',\n",
       " 200,\n",
       " 500,\n",
       " 600,\n",
       " 'goa',\n",
       " 'g',\n",
       " 'o',\n",
       " 'a']"
      ]
     },
     "execution_count": 39,
     "metadata": {},
     "output_type": "execute_result"
    }
   ],
   "source": [
    "L "
   ]
  },
  {
   "cell_type": "code",
   "execution_count": 44,
   "id": "4533a8b1-b7cf-4e61-b283-1b3f9d98f931",
   "metadata": {},
   "outputs": [
    {
     "data": {
      "text/plain": [
       "[100,\n",
       " 'world',\n",
       " 1,\n",
       " 3.4,\n",
       " (5+6j),\n",
       " 1000,\n",
       " 'Hello',\n",
       " 200,\n",
       " 500,\n",
       " 600,\n",
       " 'goa',\n",
       " 'g',\n",
       " 'o',\n",
       " 'a']"
      ]
     },
     "execution_count": 44,
     "metadata": {},
     "output_type": "execute_result"
    }
   ],
   "source": [
    "L"
   ]
  },
  {
   "cell_type": "code",
   "execution_count": 42,
   "id": "838aaf8d-e4b3-4b5d-a041-8846ed3ce5ec",
   "metadata": {},
   "outputs": [],
   "source": [
    "del L1"
   ]
  },
  {
   "cell_type": "code",
   "execution_count": 46,
   "id": "c0453508-cc7e-49bb-a120-853349191752",
   "metadata": {},
   "outputs": [],
   "source": [
    "L.remove(\"world\")"
   ]
  },
  {
   "cell_type": "code",
   "execution_count": 47,
   "id": "0ef61419-1f3c-4969-b2aa-0cc0672a8723",
   "metadata": {},
   "outputs": [
    {
     "data": {
      "text/plain": [
       "[100, 1, 3.4, (5+6j), 1000, 'Hello', 200, 500, 600, 'goa', 'g', 'o', 'a']"
      ]
     },
     "execution_count": 47,
     "metadata": {},
     "output_type": "execute_result"
    }
   ],
   "source": [
    "L"
   ]
  },
  {
   "cell_type": "code",
   "execution_count": 48,
   "id": "4a5229a2-5d8f-47b2-a381-be8efeaac190",
   "metadata": {},
   "outputs": [
    {
     "data": {
      "text/plain": [
       "'a'"
      ]
     },
     "execution_count": 48,
     "metadata": {},
     "output_type": "execute_result"
    }
   ],
   "source": [
    "L.pop()"
   ]
  },
  {
   "cell_type": "code",
   "execution_count": 49,
   "id": "0b861943-45b7-47bf-ab45-484ad961151a",
   "metadata": {},
   "outputs": [],
   "source": [
    "L.clear()"
   ]
  },
  {
   "cell_type": "code",
   "execution_count": 50,
   "id": "a5de1e50-f0c2-4ac8-b610-322dce6bcdb7",
   "metadata": {},
   "outputs": [
    {
     "data": {
      "text/plain": [
       "[]"
      ]
     },
     "execution_count": 50,
     "metadata": {},
     "output_type": "execute_result"
    }
   ],
   "source": [
    "L"
   ]
  },
  {
   "cell_type": "markdown",
   "id": "c0988387-e334-4f1c-80b6-f834d109e998",
   "metadata": {},
   "source": [
    "# operations"
   ]
  },
  {
   "cell_type": "code",
   "execution_count": 51,
   "id": "ba29df18-84da-4adb-bd63-e9bb78ebd2dd",
   "metadata": {},
   "outputs": [
    {
     "data": {
      "text/plain": [
       "[1, 2, 3, 4, 5, 7, 8, 9, 7]"
      ]
     },
     "execution_count": 51,
     "metadata": {},
     "output_type": "execute_result"
    }
   ],
   "source": [
    "L = [1,2,3,4,5]\n",
    "L1 = [7,8,9,7]\n",
    "L+L1\n"
   ]
  },
  {
   "cell_type": "code",
   "execution_count": 53,
   "id": "b2e22f34-fa54-4def-a297-528e9e6283e2",
   "metadata": {},
   "outputs": [
    {
     "data": {
      "text/plain": [
       "[1, 2, 3, 4, 5, 1, 2, 3, 4, 5, 1, 2, 3, 4, 5, 1, 2, 3, 4, 5]"
      ]
     },
     "execution_count": 53,
     "metadata": {},
     "output_type": "execute_result"
    }
   ],
   "source": [
    "L*4\n"
   ]
  },
  {
   "cell_type": "code",
   "execution_count": 54,
   "id": "4b987fd1-97b9-4032-8590-9d9497e0b4e9",
   "metadata": {},
   "outputs": [
    {
     "name": "stdout",
     "output_type": "stream",
     "text": [
      "1\n",
      "2\n",
      "3\n",
      "4\n",
      "5\n"
     ]
    }
   ],
   "source": [
    "for i in L:\n",
    "    print(i)"
   ]
  },
  {
   "cell_type": "code",
   "execution_count": 55,
   "id": "58e454ea-23c9-43d3-8ed9-69a36e01efae",
   "metadata": {},
   "outputs": [
    {
     "data": {
      "text/plain": [
       "True"
      ]
     },
     "execution_count": 55,
     "metadata": {},
     "output_type": "execute_result"
    }
   ],
   "source": [
    "4 in L"
   ]
  },
  {
   "cell_type": "code",
   "execution_count": 56,
   "id": "99e069ba-9a8e-472a-b27f-a5f00c038592",
   "metadata": {},
   "outputs": [
    {
     "data": {
      "text/plain": [
       "5"
      ]
     },
     "execution_count": 56,
     "metadata": {},
     "output_type": "execute_result"
    }
   ],
   "source": [
    "len(L)"
   ]
  },
  {
   "cell_type": "code",
   "execution_count": 57,
   "id": "c46980be-6ce9-4795-a574-a85ea15f6ea5",
   "metadata": {},
   "outputs": [
    {
     "data": {
      "text/plain": [
       "5"
      ]
     },
     "execution_count": 57,
     "metadata": {},
     "output_type": "execute_result"
    }
   ],
   "source": [
    "max(L)"
   ]
  },
  {
   "cell_type": "code",
   "execution_count": 58,
   "id": "ae39f813-5716-4954-8a6e-c09a4519c810",
   "metadata": {},
   "outputs": [
    {
     "data": {
      "text/plain": [
       "1"
      ]
     },
     "execution_count": 58,
     "metadata": {},
     "output_type": "execute_result"
    }
   ],
   "source": [
    "min(L)"
   ]
  },
  {
   "cell_type": "code",
   "execution_count": 59,
   "id": "fb487584-3000-4fb4-83da-7c772ad3057c",
   "metadata": {},
   "outputs": [
    {
     "data": {
      "text/plain": [
       "[1, 2, 3, 4, 5]"
      ]
     },
     "execution_count": 59,
     "metadata": {},
     "output_type": "execute_result"
    }
   ],
   "source": [
    "sorted(L)"
   ]
  },
  {
   "cell_type": "code",
   "execution_count": 60,
   "id": "c18f00d3-65be-4c94-9e61-7b23021c6214",
   "metadata": {},
   "outputs": [
    {
     "data": {
      "text/plain": [
       "[5, 4, 3, 2, 1]"
      ]
     },
     "execution_count": 60,
     "metadata": {},
     "output_type": "execute_result"
    }
   ],
   "source": [
    "sorted(L, reverse = True)"
   ]
  },
  {
   "cell_type": "code",
   "execution_count": 61,
   "id": "47a5380f-b228-4ca0-bc0b-3a2d5d8a94cd",
   "metadata": {},
   "outputs": [],
   "source": [
    "L.sort(reverse = True)"
   ]
  },
  {
   "cell_type": "code",
   "execution_count": 62,
   "id": "f002abfc-1238-40fd-a1f5-9e8f6a5aa74f",
   "metadata": {},
   "outputs": [
    {
     "data": {
      "text/plain": [
       "[5, 4, 3, 2, 1]"
      ]
     },
     "execution_count": 62,
     "metadata": {},
     "output_type": "execute_result"
    }
   ],
   "source": [
    "L"
   ]
  },
  {
   "cell_type": "code",
   "execution_count": 67,
   "id": "47cf9689-6f3d-41bd-a50b-74eaab4fabed",
   "metadata": {},
   "outputs": [
    {
     "name": "stdout",
     "output_type": "stream",
     "text": [
      "['how', 'are', 'you?']\n",
      "How\n",
      "Are\n",
      "You?\n"
     ]
    }
   ],
   "source": [
    "sample = \"how are you?\"\n",
    "print(sample.split())\n",
    "\n",
    "for i in sample.split():\n",
    "    print(i.capitalize())\n",
    "\n",
    "L.append(i.capitalize())"
   ]
  },
  {
   "cell_type": "code",
   "execution_count": 64,
   "id": "a83667c5-5e33-4050-908e-5f5c29600dcc",
   "metadata": {},
   "outputs": [],
   "source": [
    "L.append(i.capitalize())"
   ]
  },
  {
   "cell_type": "code",
   "execution_count": 65,
   "id": "fdb71cd0-4c8d-4d8c-ba4d-f0087ba1278f",
   "metadata": {},
   "outputs": [
    {
     "data": {
      "text/plain": [
       "[5, 4, 3, 2, 1, 'You?']"
      ]
     },
     "execution_count": 65,
     "metadata": {},
     "output_type": "execute_result"
    }
   ],
   "source": [
    "L"
   ]
  },
  {
   "cell_type": "code",
   "execution_count": null,
   "id": "1631de9f-741e-4857-add8-afa710f03962",
   "metadata": {},
   "outputs": [],
   "source": []
  }
 ],
 "metadata": {
  "kernelspec": {
   "display_name": "Python 3 (ipykernel)",
   "language": "python",
   "name": "python3"
  },
  "language_info": {
   "codemirror_mode": {
    "name": "ipython",
    "version": 3
   },
   "file_extension": ".py",
   "mimetype": "text/x-python",
   "name": "python",
   "nbconvert_exporter": "python",
   "pygments_lexer": "ipython3",
   "version": "3.11.4"
  }
 },
 "nbformat": 4,
 "nbformat_minor": 5
}
