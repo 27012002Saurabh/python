{
 "cells": [
  {
   "cell_type": "markdown",
   "id": "0fd13f2f-5aff-425c-a12d-7bd3ca2f3cc2",
   "metadata": {},
   "source": [
    "Keywords"
   ]
  },
  {
   "cell_type": "markdown",
   "id": "08a63c5e-6b0c-41ee-b312-a5ba37c8e829",
   "metadata": {},
   "source": [
    ". Python is a case sensitive programming language\n",
    "\n",
    "In programming , a keyword is a word that is reserved by a program because the word has a special meaning. Keywords can \n",
    "be commands or parametrs. Every programming language has set of keywords that cannot be used as variable names"
   ]
  },
  {
   "cell_type": "code",
   "execution_count": 1,
   "id": "83c95abd-ba5d-48ab-803d-e2483097e6ca",
   "metadata": {},
   "outputs": [
    {
     "name": "stdout",
     "output_type": "stream",
     "text": [
      "['False', 'None', 'True', 'and', 'as', 'assert', 'async', 'await', 'break', 'class', 'continue', 'def', 'del', 'elif', 'else', 'except', 'finally', 'for', 'from', 'global', 'if', 'import', 'in', 'is', 'lambda', 'nonlocal', 'not', 'or', 'pass', 'raise', 'return', 'try', 'while', 'with', 'yield']\n"
     ]
    }
   ],
   "source": [
    "# python has 33 keywords\n",
    "import keyword \n",
    "print(keyword.kwlist)"
   ]
  },
  {
   "cell_type": "markdown",
   "id": "d720d1c8-8529-44d2-a1b2-96d4dbe12c48",
   "metadata": {},
   "source": [
    "Identifiers\n",
    "\n"
   ]
  },
  {
   "cell_type": "markdown",
   "id": "a5c13ef5-3242-4a51-9422-09cbd0869de5",
   "metadata": {},
   "source": [
    "A Python identifier is a name used to identify a variavle, function ,class ,module or other object"
   ]
  },
  {
   "cell_type": "markdown",
   "id": "d273796d-cc86-4b9c-8472-5e0914393dc1",
   "metadata": {},
   "source": [
    ". can only start with an alphabet or _\n",
    "\n",
    ". Followed by 0 or more letter,_and digits\n",
    "\n",
    ".keywords cannot be used as an identifers"
   ]
  },
  {
   "cell_type": "code",
   "execution_count": null,
   "id": "5b4c709d-01be-4a63-85f9-89f196610b0f",
   "metadata": {},
   "outputs": [],
   "source": []
  }
 ],
 "metadata": {
  "kernelspec": {
   "display_name": "Python 3 (ipykernel)",
   "language": "python",
   "name": "python3"
  },
  "language_info": {
   "codemirror_mode": {
    "name": "ipython",
    "version": 3
   },
   "file_extension": ".py",
   "mimetype": "text/x-python",
   "name": "python",
   "nbconvert_exporter": "python",
   "pygments_lexer": "ipython3",
   "version": "3.11.4"
  }
 },
 "nbformat": 4,
 "nbformat_minor": 5
}
