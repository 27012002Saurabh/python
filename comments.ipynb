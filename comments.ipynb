{
 "cells": [
  {
   "cell_type": "code",
   "execution_count": 1,
   "id": "f3452379-12bc-4fb5-9e5f-9007b122fe7d",
   "metadata": {},
   "outputs": [],
   "source": [
    "# comments \n"
   ]
  },
  {
   "cell_type": "code",
   "execution_count": 2,
   "id": "0c51ed4c-580c-4117-a8dc-c83dd34bc317",
   "metadata": {},
   "outputs": [],
   "source": [
    "# this is a comment"
   ]
  },
  {
   "cell_type": "code",
   "execution_count": 1,
   "id": "3cd1fec6-1be6-43db-bfec-046b7795917a",
   "metadata": {},
   "outputs": [
    {
     "name": "stdout",
     "output_type": "stream",
     "text": [
      "Hello worlk!\n"
     ]
    }
   ],
   "source": [
    "\"\"\"this is written\n",
    "in more than one \n",
    "line\"\"\"\n",
    "print(\"Hello worlk!\")"
   ]
  },
  {
   "cell_type": "code",
   "execution_count": null,
   "id": "ce735f63-2968-475a-9d96-9dcfe4420426",
   "metadata": {},
   "outputs": [],
   "source": []
  }
 ],
 "metadata": {
  "kernelspec": {
   "display_name": "Python 3 (ipykernel)",
   "language": "python",
   "name": "python3"
  },
  "language_info": {
   "codemirror_mode": {
    "name": "ipython",
    "version": 3
   },
   "file_extension": ".py",
   "mimetype": "text/x-python",
   "name": "python",
   "nbconvert_exporter": "python",
   "pygments_lexer": "ipython3",
   "version": "3.11.5"
  }
 },
 "nbformat": 4,
 "nbformat_minor": 5
}
