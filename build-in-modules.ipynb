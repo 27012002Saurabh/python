{
 "cells": [
  {
   "cell_type": "markdown",
   "id": "4f045e92-daa7-4486-ab01-903a7e2cc20d",
   "metadata": {},
   "source": [
    "# what are modules ?\n",
    "\n",
    "consider a  modules to be the same a code library.\n",
    "\n",
    "A file containing a set of functions you want to include in your application.\n",
    "\n",
    "examples of python modules\n",
    ". math\n",
    "\n",
    ".random.\n",
    "\n",
    ".os\n",
    "\n",
    ".time"
   ]
  },
  {
   "cell_type": "code",
   "execution_count": 2,
   "id": "a78d9bd4-eeff-4266-bac3-fee0abfdd6c5",
   "metadata": {},
   "outputs": [],
   "source": [
    "# include<stdio.h>\n",
    "import math"
   ]
  },
  {
   "cell_type": "code",
   "execution_count": 3,
   "id": "600f956c-34d5-473a-bcc1-50e77facef78",
   "metadata": {},
   "outputs": [
    {
     "data": {
      "text/plain": [
       "3.141592653589793"
      ]
     },
     "execution_count": 3,
     "metadata": {},
     "output_type": "execute_result"
    }
   ],
   "source": [
    "math.pi"
   ]
  },
  {
   "cell_type": "code",
   "execution_count": 4,
   "id": "7d7015d5-48d1-417a-aef1-e7c5ed9dddab",
   "metadata": {},
   "outputs": [
    {
     "data": {
      "text/plain": [
       "2.718281828459045"
      ]
     },
     "execution_count": 4,
     "metadata": {},
     "output_type": "execute_result"
    }
   ],
   "source": [
    "math.e"
   ]
  },
  {
   "cell_type": "code",
   "execution_count": 5,
   "id": "64bf7067-2edf-4340-831a-905c7bf7d32a",
   "metadata": {},
   "outputs": [
    {
     "data": {
      "text/plain": [
       "120"
      ]
     },
     "execution_count": 5,
     "metadata": {},
     "output_type": "execute_result"
    }
   ],
   "source": [
    "math.factorial(5)"
   ]
  },
  {
   "cell_type": "code",
   "execution_count": 7,
   "id": "e5a0cfdb-ff59-4318-92e1-349e6907d9d9",
   "metadata": {},
   "outputs": [
    {
     "data": {
      "text/plain": [
       "7"
      ]
     },
     "execution_count": 7,
     "metadata": {},
     "output_type": "execute_result"
    }
   ],
   "source": [
    "math.ceil(6.4)"
   ]
  },
  {
   "cell_type": "code",
   "execution_count": 8,
   "id": "2aaa9219-4ed8-4bb6-b615-ca45d6bce2dc",
   "metadata": {},
   "outputs": [],
   "source": [
    "import random"
   ]
  },
  {
   "cell_type": "code",
   "execution_count": 11,
   "id": "416737d6-0de6-4fad-a0c0-3e5446f69960",
   "metadata": {},
   "outputs": [
    {
     "data": {
      "text/plain": [
       "[6, 1, 5, 2]"
      ]
     },
     "execution_count": 11,
     "metadata": {},
     "output_type": "execute_result"
    }
   ],
   "source": [
    "a = [1 , 2,5,6]\n",
    "random.shuffle(a)\n",
    "a"
   ]
  },
  {
   "cell_type": "code",
   "execution_count": 12,
   "id": "46d62dfc-624f-4553-be07-408ad36756d4",
   "metadata": {},
   "outputs": [],
   "source": [
    " import time"
   ]
  },
  {
   "cell_type": "code",
   "execution_count": 20,
   "id": "50961272-e1b9-42fa-8efd-21b74ff9629d",
   "metadata": {},
   "outputs": [
    {
     "data": {
      "text/plain": [
       "1693217379.490378"
      ]
     },
     "execution_count": 20,
     "metadata": {},
     "output_type": "execute_result"
    }
   ],
   "source": [
    "time.time()"
   ]
  },
  {
   "cell_type": "code",
   "execution_count": 21,
   "id": "80256d18-0fcb-43c1-8fc9-b6ef4dfbde85",
   "metadata": {},
   "outputs": [
    {
     "data": {
      "text/plain": [
       "'Mon Aug 28 15:39:51 2023'"
      ]
     },
     "execution_count": 21,
     "metadata": {},
     "output_type": "execute_result"
    }
   ],
   "source": [
    "time.ctime()"
   ]
  },
  {
   "cell_type": "code",
   "execution_count": 22,
   "id": "f057d3b9-8b92-4715-84c0-90f44e37ab48",
   "metadata": {},
   "outputs": [
    {
     "name": "stdout",
     "output_type": "stream",
     "text": [
      "hello\n",
      "world\n"
     ]
    }
   ],
   "source": [
    "print(\"hello\")\n",
    "time.sleep(1)\n",
    "print(\"world\")"
   ]
  },
  {
   "cell_type": "code",
   "execution_count": 23,
   "id": "debb1a75-60a2-4271-96da-792db84a9beb",
   "metadata": {},
   "outputs": [],
   "source": [
    "import os"
   ]
  },
  {
   "cell_type": "code",
   "execution_count": 24,
   "id": "60067438-92c9-4d3c-a750-c2ef9d9879f4",
   "metadata": {},
   "outputs": [
    {
     "data": {
      "text/plain": [
       "'C:\\\\Users\\\\saura'"
      ]
     },
     "execution_count": 24,
     "metadata": {},
     "output_type": "execute_result"
    }
   ],
   "source": [
    "os.getcwd()"
   ]
  },
  {
   "cell_type": "code",
   "execution_count": 26,
   "id": "3f0903c0-2eeb-42a1-a47d-184d643004ab",
   "metadata": {},
   "outputs": [
    {
     "data": {
      "text/plain": [
       "['.ipynb_checkpoints',\n",
       " '.ipython',\n",
       " '.jupyter',\n",
       " 'AppData',\n",
       " 'Application Data',\n",
       " 'break- cnontinue-and-pass.ipynb',\n",
       " 'built-in-function.ipynb',\n",
       " 'comments.ipynb',\n",
       " 'Contacts',\n",
       " 'Cookies',\n",
       " 'data-types.ipynb',\n",
       " 'Decision-control.ipynb',\n",
       " 'Documents',\n",
       " 'Downloads',\n",
       " 'Favorites',\n",
       " 'for-loop.ipynb',\n",
       " 'guess gaming2.ipynb',\n",
       " 'guessing-game.ipynb',\n",
       " 'indentation.ipynb',\n",
       " 'Keywords-and-identifiers.ipynb',\n",
       " 'Links',\n",
       " 'Literals.ipynb',\n",
       " 'Local Settings',\n",
       " 'Music',\n",
       " 'My Documents',\n",
       " 'nested-loops.ipynb',\n",
       " 'NetHood',\n",
       " 'NTUSER.DAT',\n",
       " 'ntuser.dat.LOG1',\n",
       " 'ntuser.dat.LOG2',\n",
       " 'NTUSER.DAT{a2332f18-cdbf-11ec-8680-002248483d79}.TM.blf',\n",
       " 'NTUSER.DAT{a2332f18-cdbf-11ec-8680-002248483d79}.TMContainer00000000000000000001.regtrans-ms',\n",
       " 'NTUSER.DAT{a2332f18-cdbf-11ec-8680-002248483d79}.TMContainer00000000000000000002.regtrans-ms',\n",
       " 'ntuser.ini',\n",
       " 'OneDrive',\n",
       " 'operators.ipynb',\n",
       " 'print-function.ipynb',\n",
       " 'PrintHood',\n",
       " 'Recent',\n",
       " 'Saved Games',\n",
       " 'Searches',\n",
       " 'SendTo',\n",
       " 'Start Menu',\n",
       " 'taking-user-input-and-type-conversion.ipynb',\n",
       " 'Templates',\n",
       " 'Untitled.ipynb',\n",
       " 'Untitled1.ipynb',\n",
       " 'variales-in-python.ipynb',\n",
       " 'Videos',\n",
       " 'while-loop.ipynb']"
      ]
     },
     "execution_count": 26,
     "metadata": {},
     "output_type": "execute_result"
    }
   ],
   "source": [
    "os.listdir()"
   ]
  },
  {
   "cell_type": "code",
   "execution_count": null,
   "id": "45cdf9e1-8043-40ce-8fe4-828ef792b02f",
   "metadata": {},
   "outputs": [],
   "source": []
  }
 ],
 "metadata": {
  "kernelspec": {
   "display_name": "Python 3 (ipykernel)",
   "language": "python",
   "name": "python3"
  },
  "language_info": {
   "codemirror_mode": {
    "name": "ipython",
    "version": 3
   },
   "file_extension": ".py",
   "mimetype": "text/x-python",
   "name": "python",
   "nbconvert_exporter": "python",
   "pygments_lexer": "ipython3",
   "version": "3.11.4"
  }
 },
 "nbformat": 4,
 "nbformat_minor": 5
}
