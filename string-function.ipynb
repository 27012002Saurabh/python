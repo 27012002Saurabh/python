{
 "cells": [
  {
   "cell_type": "markdown",
   "id": "93f2c1c3-ac07-41dd-8c7b-ceefd98362d6",
   "metadata": {},
   "source": [
    "# common function"
   ]
  },
  {
   "cell_type": "code",
   "execution_count": 1,
   "id": "da61f6c4-0394-4ec0-9ed2-359973b03b34",
   "metadata": {},
   "outputs": [
    {
     "data": {
      "text/plain": [
       "7"
      ]
     },
     "execution_count": 1,
     "metadata": {},
     "output_type": "execute_result"
    }
   ],
   "source": [
    "c= \"kolkata\"\n",
    "len(c)"
   ]
  },
  {
   "cell_type": "code",
   "execution_count": 2,
   "id": "3d39c59c-e031-4279-a55c-7befd0089bec",
   "metadata": {},
   "outputs": [
    {
     "data": {
      "text/plain": [
       "'t'"
      ]
     },
     "execution_count": 2,
     "metadata": {},
     "output_type": "execute_result"
    }
   ],
   "source": [
    "max(c)"
   ]
  },
  {
   "cell_type": "code",
   "execution_count": 3,
   "id": "c33e9a40-e6b9-4a91-adcb-fa4f01acb5c6",
   "metadata": {},
   "outputs": [
    {
     "data": {
      "text/plain": [
       "'a'"
      ]
     },
     "execution_count": 3,
     "metadata": {},
     "output_type": "execute_result"
    }
   ],
   "source": [
    "min(c)"
   ]
  },
  {
   "cell_type": "code",
   "execution_count": 4,
   "id": "d6e70928-bf19-4bf0-a215-d2cf7940f474",
   "metadata": {},
   "outputs": [
    {
     "data": {
      "text/plain": [
       "['a', 'a', 'k', 'k', 'l', 'o', 't']"
      ]
     },
     "execution_count": 4,
     "metadata": {},
     "output_type": "execute_result"
    }
   ],
   "source": [
    "sorted(c)"
   ]
  },
  {
   "cell_type": "code",
   "execution_count": 5,
   "id": "52f2c363-9a70-4ecb-a0e4-7b83558cd9cb",
   "metadata": {},
   "outputs": [
    {
     "data": {
      "text/plain": [
       "['t', 'o', 'l', 'k', 'k', 'a', 'a']"
      ]
     },
     "execution_count": 5,
     "metadata": {},
     "output_type": "execute_result"
    }
   ],
   "source": [
    "sorted(c,reverse = True)"
   ]
  },
  {
   "cell_type": "markdown",
   "id": "663f1cbd-aeb6-4bd4-8bd2-17822257be6c",
   "metadata": {},
   "source": [
    "# Capitalize/Title/upper/lower/Swapcase"
   ]
  },
  {
   "cell_type": "code",
   "execution_count": 8,
   "id": "743a7984-11f9-489a-80af-b1176f223385",
   "metadata": {},
   "outputs": [
    {
     "data": {
      "text/plain": [
       "'Kolkata'"
      ]
     },
     "execution_count": 8,
     "metadata": {},
     "output_type": "execute_result"
    }
   ],
   "source": [
    "c \n",
    "c.capitalize()\n"
   ]
  },
  {
   "cell_type": "code",
   "execution_count": 10,
   "id": "989d5a26-7294-46a9-b98f-d1873d4d368e",
   "metadata": {},
   "outputs": [
    {
     "data": {
      "text/plain": [
       "'Kolkata'"
      ]
     },
     "execution_count": 10,
     "metadata": {},
     "output_type": "execute_result"
    }
   ],
   "source": [
    "c.title()"
   ]
  },
  {
   "cell_type": "code",
   "execution_count": 11,
   "id": "ffd066df-698d-4ae1-b41b-587f3ca15e3c",
   "metadata": {},
   "outputs": [
    {
     "data": {
      "text/plain": [
       "'It Is Raining Today'"
      ]
     },
     "execution_count": 11,
     "metadata": {},
     "output_type": "execute_result"
    }
   ],
   "source": [
    "\"it is raining today\".title()"
   ]
  },
  {
   "cell_type": "code",
   "execution_count": 12,
   "id": "7fa68c77-7e90-4f71-b71d-85fc585e0adf",
   "metadata": {},
   "outputs": [
    {
     "data": {
      "text/plain": [
       "'KOLKATA'"
      ]
     },
     "execution_count": 12,
     "metadata": {},
     "output_type": "execute_result"
    }
   ],
   "source": [
    "c.upper()"
   ]
  },
  {
   "cell_type": "code",
   "execution_count": 13,
   "id": "873571a6-e879-4705-9f09-c07245463479",
   "metadata": {},
   "outputs": [
    {
     "data": {
      "text/plain": [
       "'kolkata'"
      ]
     },
     "execution_count": 13,
     "metadata": {},
     "output_type": "execute_result"
    }
   ],
   "source": [
    "c.lower()"
   ]
  },
  {
   "cell_type": "code",
   "execution_count": 14,
   "id": "0de09354-a320-46fe-ba94-31703aa79bd2",
   "metadata": {},
   "outputs": [
    {
     "data": {
      "text/plain": [
       "'kOLlKATA'"
      ]
     },
     "execution_count": 14,
     "metadata": {},
     "output_type": "execute_result"
    }
   ],
   "source": [
    "\"KolLkata\".swapcase()"
   ]
  },
  {
   "cell_type": "markdown",
   "id": "aba20373-6468-45fb-b459-a6e30d9ea769",
   "metadata": {},
   "source": [
    "# 2.Count"
   ]
  },
  {
   "cell_type": "code",
   "execution_count": 15,
   "id": "7ad4d7aa-2852-422a-b9b8-2ff4c7f4de47",
   "metadata": {},
   "outputs": [
    {
     "data": {
      "text/plain": [
       "4"
      ]
     },
     "execution_count": 15,
     "metadata": {},
     "output_type": "execute_result"
    }
   ],
   "source": [
    "\"it is raining today\".count(\"i\")"
   ]
  },
  {
   "cell_type": "markdown",
   "id": "a5a95a12-fc8a-42f3-a27a-0a3ee59a6a6e",
   "metadata": {},
   "source": [
    "# 3.Find/Index"
   ]
  },
  {
   "cell_type": "code",
   "execution_count": 16,
   "id": "d4baf223-42ff-4b29-90ed-6fa7cabe0e85",
   "metadata": {},
   "outputs": [
    {
     "data": {
      "text/plain": [
       "0"
      ]
     },
     "execution_count": 16,
     "metadata": {},
     "output_type": "execute_result"
    }
   ],
   "source": [
    "\"it is raining\".find(\"i\")"
   ]
  },
  {
   "cell_type": "code",
   "execution_count": 17,
   "id": "04772e18-927d-429b-a38f-7483a83a566a",
   "metadata": {},
   "outputs": [
    {
     "ename": "ValueError",
     "evalue": "substring not found",
     "output_type": "error",
     "traceback": [
      "\u001b[1;31m---------------------------------------------------------------------------\u001b[0m",
      "\u001b[1;31mValueError\u001b[0m                                Traceback (most recent call last)",
      "Cell \u001b[1;32mIn[17], line 1\u001b[0m\n\u001b[1;32m----> 1\u001b[0m \u001b[38;5;124;43m\"\u001b[39;49m\u001b[38;5;124;43mit is raining\u001b[39;49m\u001b[38;5;124;43m\"\u001b[39;49m\u001b[38;5;241;43m.\u001b[39;49m\u001b[43mindex\u001b[49m\u001b[43m(\u001b[49m\u001b[38;5;124;43m'\u001b[39;49m\u001b[38;5;124;43mx\u001b[39;49m\u001b[38;5;124;43m'\u001b[39;49m\u001b[43m)\u001b[49m\n",
      "\u001b[1;31mValueError\u001b[0m: substring not found"
     ]
    }
   ],
   "source": [
    "\"it is raining\".index('x')"
   ]
  },
  {
   "cell_type": "markdown",
   "id": "2b86d096-1f44-45bb-a54e-81b175f87683",
   "metadata": {},
   "source": [
    "# 4.endswith/startwith"
   ]
  },
  {
   "cell_type": "code",
   "execution_count": 19,
   "id": "11518a63-2ffa-4068-9967-7091aa261e5d",
   "metadata": {},
   "outputs": [
    {
     "data": {
      "text/plain": [
       "True"
      ]
     },
     "execution_count": 19,
     "metadata": {},
     "output_type": "execute_result"
    }
   ],
   "source": [
    "\"it is raining\".startswith(\"it\")"
   ]
  },
  {
   "cell_type": "code",
   "execution_count": 20,
   "id": "0fbb4099-504a-4064-a666-8ed83dcdff46",
   "metadata": {},
   "outputs": [
    {
     "data": {
      "text/plain": [
       "True"
      ]
     },
     "execution_count": 20,
     "metadata": {},
     "output_type": "execute_result"
    }
   ],
   "source": [
    "\"it is raining\".endswith(\"ing\")"
   ]
  },
  {
   "cell_type": "markdown",
   "id": "cbaefb9c-3a1b-429e-b582-c8330a6fdf5f",
   "metadata": {},
   "source": [
    "# 5.format"
   ]
  },
  {
   "cell_type": "code",
   "execution_count": 21,
   "id": "24da0797-be98-48db-9345-d09563189c39",
   "metadata": {},
   "outputs": [
    {
     "data": {
      "text/plain": [
       "'Hello my name is Nitish and I am 30'"
      ]
     },
     "execution_count": 21,
     "metadata": {},
     "output_type": "execute_result"
    }
   ],
   "source": [
    "\"Hello my name is {} and I am {}\".format(\"Nitish\",30)"
   ]
  },
  {
   "cell_type": "code",
   "execution_count": 22,
   "id": "02d5ce7c-37ae-4a0f-9919-8aad5eb09434",
   "metadata": {},
   "outputs": [
    {
     "data": {
      "text/plain": [
       "'Hello my name is 30 and I am Nitish'"
      ]
     },
     "execution_count": 22,
     "metadata": {},
     "output_type": "execute_result"
    }
   ],
   "source": [
    "\"Hello my name is {1} and I am {0}\".format(\"Nitish\",30)"
   ]
  },
  {
   "cell_type": "code",
   "execution_count": 23,
   "id": "da58575e-4037-4475-a7da-4b73d2b51f77",
   "metadata": {},
   "outputs": [
    {
     "data": {
      "text/plain": [
       "'Hello my name is Nitish and I am 30'"
      ]
     },
     "execution_count": 23,
     "metadata": {},
     "output_type": "execute_result"
    }
   ],
   "source": [
    "\"Hello my name is {name} and I am {age}\".format(name = \"Nitish\",age = 30)"
   ]
  },
  {
   "cell_type": "markdown",
   "id": "dc0a5e81-22d5-4c7a-ad5c-be286b9c723b",
   "metadata": {},
   "source": [
    "# 6.isalnum/isalpha/isdecimal/isdigit/isidentifier"
   ]
  },
  {
   "cell_type": "code",
   "execution_count": 24,
   "id": "c7ade9b1-c2b9-4fb8-9865-2e8db788913d",
   "metadata": {},
   "outputs": [
    {
     "data": {
      "text/plain": [
       "True"
      ]
     },
     "execution_count": 24,
     "metadata": {},
     "output_type": "execute_result"
    }
   ],
   "source": [
    "\"FLAT20\".isalnum()"
   ]
  },
  {
   "cell_type": "code",
   "execution_count": 25,
   "id": "2c897b14-1960-4382-887f-9e22b8e5eb64",
   "metadata": {},
   "outputs": [
    {
     "data": {
      "text/plain": [
       "True"
      ]
     },
     "execution_count": 25,
     "metadata": {},
     "output_type": "execute_result"
    }
   ],
   "source": [
    "\"flat\".isalpha()"
   ]
  },
  {
   "cell_type": "code",
   "execution_count": 26,
   "id": "81a0daf8-3afa-4b88-86c5-d95229597d1f",
   "metadata": {},
   "outputs": [
    {
     "data": {
      "text/plain": [
       "True"
      ]
     },
     "execution_count": 26,
     "metadata": {},
     "output_type": "execute_result"
    }
   ],
   "source": [
    "\"20\".isdigit()"
   ]
  },
  {
   "cell_type": "code",
   "execution_count": 28,
   "id": "df778bf5-af7d-4ca0-9eda-e66fb5aa324b",
   "metadata": {},
   "outputs": [
    {
     "data": {
      "text/plain": [
       "True"
      ]
     },
     "execution_count": 28,
     "metadata": {},
     "output_type": "execute_result"
    }
   ],
   "source": [
    "\"hello_world\".isidentifier()"
   ]
  },
  {
   "cell_type": "markdown",
   "id": "5c3e32a2-d25d-41ab-8bd5-5315ae90e86b",
   "metadata": {},
   "source": [
    "# 7.split"
   ]
  },
  {
   "cell_type": "code",
   "execution_count": 29,
   "id": "e9f8e306-38d8-4f81-b772-6dd7ceb9a14b",
   "metadata": {},
   "outputs": [
    {
     "data": {
      "text/plain": [
       "['who', 'is', 'the', 'pm', 'of', 'india']"
      ]
     },
     "execution_count": 29,
     "metadata": {},
     "output_type": "execute_result"
    }
   ],
   "source": [
    "\"who is the pm of india\".split()"
   ]
  },
  {
   "cell_type": "code",
   "execution_count": 30,
   "id": "870eeee7-e8a0-4b79-8e28-502be2105004",
   "metadata": {},
   "outputs": [
    {
     "data": {
      "text/plain": [
       "['who ', ' the pm of india']"
      ]
     },
     "execution_count": 30,
     "metadata": {},
     "output_type": "execute_result"
    }
   ],
   "source": [
    "\"who is the pm of india\".split(\"is\")"
   ]
  },
  {
   "cell_type": "markdown",
   "id": "d7e8e20b-42dc-4cc2-a6de-c7a5e0d8b17b",
   "metadata": {},
   "source": [
    "# 8.Join"
   ]
  },
  {
   "cell_type": "code",
   "execution_count": 31,
   "id": "7a1f7180-39fb-4a46-b322-c76372d5841a",
   "metadata": {},
   "outputs": [
    {
     "data": {
      "text/plain": [
       "'who is the pm of india'"
      ]
     },
     "execution_count": 31,
     "metadata": {},
     "output_type": "execute_result"
    }
   ],
   "source": [
    "\" \".join(['who', 'is', 'the', 'pm', 'of', 'india'])"
   ]
  },
  {
   "cell_type": "markdown",
   "id": "f53132de-2598-4dec-9315-09f217f7c641",
   "metadata": {},
   "source": [
    "# 9.Replace"
   ]
  },
  {
   "cell_type": "code",
   "execution_count": 32,
   "id": "001b56ce-1570-4600-99a8-e1ec0c254d95",
   "metadata": {},
   "outputs": [
    {
     "data": {
      "text/plain": [
       "'Hi my name is Nitish'"
      ]
     },
     "execution_count": 32,
     "metadata": {},
     "output_type": "execute_result"
    }
   ],
   "source": [
    "\"Hi my name is Saurabh\" .replace(\"Saurabh\",\"Nitish\")"
   ]
  },
  {
   "cell_type": "markdown",
   "id": "b993b026-75da-499d-822b-f32ac27decb1",
   "metadata": {},
   "source": [
    "# 10 .strip"
   ]
  },
  {
   "cell_type": "code",
   "execution_count": 33,
   "id": "e3e6b8fc-354d-4fe5-85fa-096091bff549",
   "metadata": {},
   "outputs": [
    {
     "data": {
      "text/plain": [
       "'saurabh'"
      ]
     },
     "execution_count": 33,
     "metadata": {},
     "output_type": "execute_result"
    }
   ],
   "source": [
    "name = \"  saurabh       \"\n",
    "name.strip()"
   ]
  },
  {
   "cell_type": "code",
   "execution_count": null,
   "id": "9ffa5c93-07e6-4511-b5f9-c40a9050283b",
   "metadata": {},
   "outputs": [],
   "source": []
  }
 ],
 "metadata": {
  "kernelspec": {
   "display_name": "Python 3 (ipykernel)",
   "language": "python",
   "name": "python3"
  },
  "language_info": {
   "codemirror_mode": {
    "name": "ipython",
    "version": 3
   },
   "file_extension": ".py",
   "mimetype": "text/x-python",
   "name": "python",
   "nbconvert_exporter": "python",
   "pygments_lexer": "ipython3",
   "version": "3.11.4"
  }
 },
 "nbformat": 4,
 "nbformat_minor": 5
}
