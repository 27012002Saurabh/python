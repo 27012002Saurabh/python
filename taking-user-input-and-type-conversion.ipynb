{
 "cells": [
  {
   "cell_type": "code",
   "execution_count": 1,
   "id": "92c3bf02-db49-4cc2-b2a7-ab157b86795f",
   "metadata": {},
   "outputs": [
    {
     "name": "stdin",
     "output_type": "stream",
     "text": [
      "Apna naam batao saurabh\n"
     ]
    },
    {
     "data": {
      "text/plain": [
       "'saurabh'"
      ]
     },
     "execution_count": 1,
     "metadata": {},
     "output_type": "execute_result"
    }
   ],
   "source": [
    "input(prompt = \"Apna naam batao\")"
   ]
  },
  {
   "cell_type": "code",
   "execution_count": 2,
   "id": "4a1b916b-cac9-4f31-8edb-632dc60c9356",
   "metadata": {},
   "outputs": [
    {
     "name": "stdin",
     "output_type": "stream",
     "text": [
      "Enter the first number 56\n",
      "Enter the second number 76\n"
     ]
    }
   ],
   "source": [
    "first_num = input(\"Enter the first number\")\n",
    "second_num = input(\"Enter the second number\")"
   ]
  },
  {
   "cell_type": "code",
   "execution_count": 3,
   "id": "758042e3-6e52-45f9-9149-353e22fe7026",
   "metadata": {},
   "outputs": [
    {
     "name": "stdout",
     "output_type": "stream",
     "text": [
      "56\n",
      "76\n"
     ]
    }
   ],
   "source": [
    "print(first_num)\n",
    "print(second_num)"
   ]
  },
  {
   "cell_type": "code",
   "execution_count": 4,
   "id": "68ad0721-f319-4f72-852b-a9ff5088812f",
   "metadata": {},
   "outputs": [
    {
     "name": "stdout",
     "output_type": "stream",
     "text": [
      "5676\n"
     ]
    }
   ],
   "source": [
    "result = first_num + second_num\n",
    "print(result)"
   ]
  },
  {
   "cell_type": "code",
   "execution_count": 5,
   "id": "30f54f4c-a91e-4867-9c9e-ea08f9c91d8b",
   "metadata": {},
   "outputs": [
    {
     "data": {
      "text/plain": [
       "str"
      ]
     },
     "execution_count": 5,
     "metadata": {},
     "output_type": "execute_result"
    }
   ],
   "source": [
    "# type\n",
    "type(first_num)"
   ]
  },
  {
   "cell_type": "code",
   "execution_count": 6,
   "id": "b2c9cada-0df0-4782-aa5d-d5a4660e1127",
   "metadata": {},
   "outputs": [
    {
     "data": {
      "text/plain": [
       "'56'"
      ]
     },
     "execution_count": 6,
     "metadata": {},
     "output_type": "execute_result"
    }
   ],
   "source": [
    "first_num"
   ]
  },
  {
   "cell_type": "code",
   "execution_count": 7,
   "id": "d3058fc8-610d-4a6d-a9f0-3184fa5b8cc4",
   "metadata": {},
   "outputs": [],
   "source": [
    "# implicit\n",
    "# explicit"
   ]
  },
  {
   "cell_type": "code",
   "execution_count": 8,
   "id": "107bfa8c-bf65-4470-b76f-656b49f5b871",
   "metadata": {},
   "outputs": [
    {
     "data": {
      "text/plain": [
       "9.5"
      ]
     },
     "execution_count": 8,
     "metadata": {},
     "output_type": "execute_result"
    }
   ],
   "source": [
    "4 + 5.5"
   ]
  },
  {
   "cell_type": "code",
   "execution_count": 10,
   "id": "2fbc1049-4e25-4984-8823-cd5dc0a7d031",
   "metadata": {},
   "outputs": [
    {
     "data": {
      "text/plain": [
       "(12+5j)"
      ]
     },
     "execution_count": 10,
     "metadata": {},
     "output_type": "execute_result"
    }
   ],
   "source": [
    "5+ 7+5j"
   ]
  },
  {
   "cell_type": "code",
   "execution_count": 11,
   "id": "992759d0-8e80-49fe-a12f-f8b205781006",
   "metadata": {},
   "outputs": [
    {
     "data": {
      "text/plain": [
       "45"
      ]
     },
     "execution_count": 11,
     "metadata": {},
     "output_type": "execute_result"
    }
   ],
   "source": [
    "# int\n",
    "int('45')"
   ]
  },
  {
   "cell_type": "code",
   "execution_count": 12,
   "id": "0632eae3-d6f7-4e67-8a24-ea16761c8e13",
   "metadata": {},
   "outputs": [
    {
     "data": {
      "text/plain": [
       "4.0"
      ]
     },
     "execution_count": 12,
     "metadata": {},
     "output_type": "execute_result"
    }
   ],
   "source": [
    "float(4)"
   ]
  },
  {
   "cell_type": "code",
   "execution_count": 13,
   "id": "84994997-d235-4f77-803f-60e4c1c2aee7",
   "metadata": {},
   "outputs": [
    {
     "data": {
      "text/plain": [
       "'5'"
      ]
     },
     "execution_count": 13,
     "metadata": {},
     "output_type": "execute_result"
    }
   ],
   "source": [
    "str(5)"
   ]
  },
  {
   "cell_type": "code",
   "execution_count": 14,
   "id": "93633653-0d88-4f36-b571-56e9acb50e63",
   "metadata": {},
   "outputs": [
    {
     "data": {
      "text/plain": [
       "False"
      ]
     },
     "execution_count": 14,
     "metadata": {},
     "output_type": "execute_result"
    }
   ],
   "source": [
    "bool(0)"
   ]
  },
  {
   "cell_type": "code",
   "execution_count": 16,
   "id": "d69e9076-a000-44a2-906f-26189499bfbc",
   "metadata": {},
   "outputs": [
    {
     "data": {
      "text/plain": [
       "(4+0j)"
      ]
     },
     "execution_count": 16,
     "metadata": {},
     "output_type": "execute_result"
    }
   ],
   "source": [
    "complex(4)"
   ]
  },
  {
   "cell_type": "code",
   "execution_count": 17,
   "id": "7157c2d7-013f-489e-910f-6604c19cc8e7",
   "metadata": {},
   "outputs": [
    {
     "data": {
      "text/plain": [
       "['H', 'e', 'l', 'l', 'o']"
      ]
     },
     "execution_count": 17,
     "metadata": {},
     "output_type": "execute_result"
    }
   ],
   "source": [
    "list('Hello')"
   ]
  },
  {
   "cell_type": "code",
   "execution_count": 18,
   "id": "cec1db29-985a-4371-b30e-a820a732a95b",
   "metadata": {},
   "outputs": [],
   "source": [
    "a = 4.5"
   ]
  },
  {
   "cell_type": "code",
   "execution_count": 19,
   "id": "474f91c3-ef77-4095-aa5b-6e49e930b660",
   "metadata": {},
   "outputs": [
    {
     "data": {
      "text/plain": [
       "4"
      ]
     },
     "execution_count": 19,
     "metadata": {},
     "output_type": "execute_result"
    }
   ],
   "source": [
    "int(a)"
   ]
  },
  {
   "cell_type": "code",
   "execution_count": 20,
   "id": "c3f01133-3e3b-45ba-8131-4d98b48854d3",
   "metadata": {},
   "outputs": [
    {
     "data": {
      "text/plain": [
       "4.5"
      ]
     },
     "execution_count": 20,
     "metadata": {},
     "output_type": "execute_result"
    }
   ],
   "source": [
    "a"
   ]
  },
  {
   "cell_type": "code",
   "execution_count": 22,
   "id": "cecd3c50-1a65-4649-bc92-f6a1baafe480",
   "metadata": {},
   "outputs": [
    {
     "name": "stdin",
     "output_type": "stream",
     "text": [
      "Enter the first number 55\n",
      "Enter the second number 66\n"
     ]
    },
    {
     "name": "stdout",
     "output_type": "stream",
     "text": [
      "121\n"
     ]
    }
   ],
   "source": [
    "first_num = int(input(\"Enter the first number\"))\n",
    "second_num = int(input(\"Enter the second number\"))\n",
    "\n",
    "result = first_num + second_num\n",
    "print(result)"
   ]
  },
  {
   "cell_type": "code",
   "execution_count": null,
   "id": "5c956565-3499-4464-87e6-ee9650d30cc4",
   "metadata": {},
   "outputs": [],
   "source": []
  }
 ],
 "metadata": {
  "kernelspec": {
   "display_name": "Python 3 (ipykernel)",
   "language": "python",
   "name": "python3"
  },
  "language_info": {
   "codemirror_mode": {
    "name": "ipython",
    "version": 3
   },
   "file_extension": ".py",
   "mimetype": "text/x-python",
   "name": "python",
   "nbconvert_exporter": "python",
   "pygments_lexer": "ipython3",
   "version": "3.11.4"
  }
 },
 "nbformat": 4,
 "nbformat_minor": 5
}
