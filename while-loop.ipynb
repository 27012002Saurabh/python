{
 "cells": [
  {
   "cell_type": "code",
   "execution_count": 1,
   "id": "4757910b-37a4-4c9d-a443-2ed6eb5056bd",
   "metadata": {},
   "outputs": [],
   "source": [
    "# while loop\n",
    "# for\n"
   ]
  },
  {
   "cell_type": "code",
   "execution_count": null,
   "id": "7fd74580-3db8-4b41-93d5-9a7d9c4be030",
   "metadata": {},
   "outputs": [],
   "source": [
    "while(condition){\n",
    "    code\n",
    "}"
   ]
  },
  {
   "cell_type": "code",
   "execution_count": null,
   "id": "468ef8d9-ccb4-415d-bc73-89c606c2610a",
   "metadata": {},
   "outputs": [],
   "source": [
    "while condition:\n",
    "    code"
   ]
  },
  {
   "cell_type": "code",
   "execution_count": 4,
   "id": "7b94ab32-98bf-450d-b936-5a72ea733c6b",
   "metadata": {},
   "outputs": [
    {
     "name": "stdin",
     "output_type": "stream",
     "text": [
      "Enter the number 24\n"
     ]
    },
    {
     "name": "stdout",
     "output_type": "stream",
     "text": [
      "24\n",
      "48\n",
      "72\n",
      "96\n",
      "120\n",
      "144\n",
      "168\n",
      "192\n",
      "216\n",
      "240\n"
     ]
    }
   ],
   "source": [
    "number = int(input(\"Enter the number\"))\n",
    "\n",
    "i = 1\n",
    "\n",
    "while i<11:\n",
    "    print(number * i)\n",
    "    i+=1"
   ]
  },
  {
   "cell_type": "code",
   "execution_count": null,
   "id": "e9562824-bb23-43b1-8b8f-ade5c148c719",
   "metadata": {},
   "outputs": [],
   "source": []
  }
 ],
 "metadata": {
  "kernelspec": {
   "display_name": "Python 3 (ipykernel)",
   "language": "python",
   "name": "python3"
  },
  "language_info": {
   "codemirror_mode": {
    "name": "ipython",
    "version": 3
   },
   "file_extension": ".py",
   "mimetype": "text/x-python",
   "name": "python",
   "nbconvert_exporter": "python",
   "pygments_lexer": "ipython3",
   "version": "3.11.4"
  }
 },
 "nbformat": 4,
 "nbformat_minor": 5
}
