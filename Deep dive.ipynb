{
 "cells": [
  {
   "cell_type": "code",
   "execution_count": 2,
   "id": "35d775de-e988-44f9-9521-82b5e4bb6f7f",
   "metadata": {},
   "outputs": [
    {
     "data": {
      "text/plain": [
       "4"
      ]
     },
     "execution_count": 2,
     "metadata": {},
     "output_type": "execute_result"
    }
   ],
   "source": [
    "a = 4\n",
    "a"
   ]
  },
  {
   "cell_type": "code",
   "execution_count": 3,
   "id": "180c968a-7a9b-4c96-b933-37cd996ad0ab",
   "metadata": {},
   "outputs": [
    {
     "data": {
      "text/plain": [
       "140714332709768"
      ]
     },
     "execution_count": 3,
     "metadata": {},
     "output_type": "execute_result"
    }
   ],
   "source": [
    "id(a)"
   ]
  },
  {
   "cell_type": "code",
   "execution_count": 4,
   "id": "98377239-414a-4bbf-921d-228dbb4e0cba",
   "metadata": {},
   "outputs": [
    {
     "data": {
      "text/plain": [
       "'0x7ffa9bd0e388'"
      ]
     },
     "execution_count": 4,
     "metadata": {},
     "output_type": "execute_result"
    }
   ],
   "source": [
    "hex(140714332709768)"
   ]
  },
  {
   "cell_type": "code",
   "execution_count": 5,
   "id": "2e501f45-c30d-4bcf-bf80-b2e0f7796d37",
   "metadata": {},
   "outputs": [
    {
     "data": {
      "text/plain": [
       "140714332709768"
      ]
     },
     "execution_count": 5,
     "metadata": {},
     "output_type": "execute_result"
    }
   ],
   "source": [
    "id(4)"
   ]
  },
  {
   "cell_type": "code",
   "execution_count": 6,
   "id": "a1142d14-5bfd-4b58-8018-c943cf61cc9b",
   "metadata": {},
   "outputs": [],
   "source": [
    "a = 5\n",
    "b = a \n",
    "#aliasing"
   ]
  },
  {
   "cell_type": "code",
   "execution_count": 7,
   "id": "540312aa-3325-472c-9d27-9e4c5dbf70a6",
   "metadata": {},
   "outputs": [
    {
     "data": {
      "text/plain": [
       "140714332709800"
      ]
     },
     "execution_count": 7,
     "metadata": {},
     "output_type": "execute_result"
    }
   ],
   "source": [
    "id(b)"
   ]
  },
  {
   "cell_type": "code",
   "execution_count": 8,
   "id": "3b907f00-88d8-458c-ad02-3002742ec9b2",
   "metadata": {},
   "outputs": [
    {
     "data": {
      "text/plain": [
       "140714332709800"
      ]
     },
     "execution_count": 8,
     "metadata": {},
     "output_type": "execute_result"
    }
   ],
   "source": [
    "id(b)"
   ]
  },
  {
   "cell_type": "code",
   "execution_count": 10,
   "id": "70a5673a-690e-4dfe-917e-2cf21eb8466a",
   "metadata": {},
   "outputs": [],
   "source": [
    "c = b"
   ]
  },
  {
   "cell_type": "code",
   "execution_count": 11,
   "id": "a666d77c-bba5-44b9-90c2-1d91746d5692",
   "metadata": {},
   "outputs": [
    {
     "data": {
      "text/plain": [
       "140714332709800"
      ]
     },
     "execution_count": 11,
     "metadata": {},
     "output_type": "execute_result"
    }
   ],
   "source": [
    "id(c)"
   ]
  },
  {
   "cell_type": "code",
   "execution_count": 12,
   "id": "5027bf35-11d1-4e04-a51d-7d0ea32af851",
   "metadata": {},
   "outputs": [],
   "source": [
    "# reference counting "
   ]
  },
  {
   "cell_type": "code",
   "execution_count": 13,
   "id": "8f371d56-27d2-40ec-b563-3afc45928a89",
   "metadata": {},
   "outputs": [],
   "source": [
    "a = 5\n",
    "b = a"
   ]
  },
  {
   "cell_type": "code",
   "execution_count": 14,
   "id": "1a36619a-ea87-49ed-a184-f78ad6af3136",
   "metadata": {},
   "outputs": [
    {
     "data": {
      "text/plain": [
       "5"
      ]
     },
     "execution_count": 14,
     "metadata": {},
     "output_type": "execute_result"
    }
   ],
   "source": [
    "a"
   ]
  },
  {
   "cell_type": "code",
   "execution_count": 15,
   "id": "684c3169-4db6-481b-b13b-d5584dcecdba",
   "metadata": {},
   "outputs": [
    {
     "data": {
      "text/plain": [
       "5"
      ]
     },
     "execution_count": 15,
     "metadata": {},
     "output_type": "execute_result"
    }
   ],
   "source": [
    "b"
   ]
  },
  {
   "cell_type": "code",
   "execution_count": 16,
   "id": "22d276f7-f5f5-4068-8167-0b70c25d51f4",
   "metadata": {},
   "outputs": [],
   "source": [
    "a = 6 "
   ]
  },
  {
   "cell_type": "code",
   "execution_count": 17,
   "id": "8647523a-ee80-4430-842b-e95fa4aa8095",
   "metadata": {},
   "outputs": [
    {
     "data": {
      "text/plain": [
       "6"
      ]
     },
     "execution_count": 17,
     "metadata": {},
     "output_type": "execute_result"
    }
   ],
   "source": [
    "a"
   ]
  },
  {
   "cell_type": "code",
   "execution_count": 18,
   "id": "70ce4df1-be79-4ff1-9de4-9bf6b416fc13",
   "metadata": {},
   "outputs": [
    {
     "data": {
      "text/plain": [
       "5"
      ]
     },
     "execution_count": 18,
     "metadata": {},
     "output_type": "execute_result"
    }
   ],
   "source": [
    "b"
   ]
  },
  {
   "cell_type": "code",
   "execution_count": 19,
   "id": "e456610b-cd87-41b8-8e2d-795a12272b7e",
   "metadata": {},
   "outputs": [],
   "source": [
    "a = 'corona'"
   ]
  },
  {
   "cell_type": "code",
   "execution_count": 20,
   "id": "40f12eb6-f661-4d33-8c92-86a86103172a",
   "metadata": {},
   "outputs": [],
   "source": [
    "b = a"
   ]
  },
  {
   "cell_type": "code",
   "execution_count": 21,
   "id": "f7e01bc9-81c5-4f08-a01e-d7347f30ff81",
   "metadata": {},
   "outputs": [],
   "source": [
    "c = b"
   ]
  },
  {
   "cell_type": "code",
   "execution_count": 22,
   "id": "908ea603-2b6a-472a-a3cd-087d18fb9887",
   "metadata": {},
   "outputs": [
    {
     "data": {
      "text/plain": [
       "2942556162736"
      ]
     },
     "execution_count": 22,
     "metadata": {},
     "output_type": "execute_result"
    }
   ],
   "source": [
    "id(a)"
   ]
  },
  {
   "cell_type": "code",
   "execution_count": 23,
   "id": "4a8bb362-80de-43d9-9aeb-6cea8f9466cc",
   "metadata": {},
   "outputs": [
    {
     "data": {
      "text/plain": [
       "2942556162736"
      ]
     },
     "execution_count": 23,
     "metadata": {},
     "output_type": "execute_result"
    }
   ],
   "source": [
    "id(b)"
   ]
  },
  {
   "cell_type": "code",
   "execution_count": 24,
   "id": "0e97619c-b539-44cc-a7fb-ab325ffeec78",
   "metadata": {},
   "outputs": [
    {
     "data": {
      "text/plain": [
       "2942556162736"
      ]
     },
     "execution_count": 24,
     "metadata": {},
     "output_type": "execute_result"
    }
   ],
   "source": [
    "id(c)"
   ]
  },
  {
   "cell_type": "code",
   "execution_count": 25,
   "id": "ebd2ebcb-df23-4238-86c0-61a6cf6f0f7d",
   "metadata": {},
   "outputs": [
    {
     "data": {
      "text/plain": [
       "'corona'"
      ]
     },
     "execution_count": 25,
     "metadata": {},
     "output_type": "execute_result"
    }
   ],
   "source": [
    "a"
   ]
  },
  {
   "cell_type": "code",
   "execution_count": 26,
   "id": "afecb7d8-1a66-4a97-9aac-71987cd07c46",
   "metadata": {},
   "outputs": [
    {
     "data": {
      "text/plain": [
       "'corona'"
      ]
     },
     "execution_count": 26,
     "metadata": {},
     "output_type": "execute_result"
    }
   ],
   "source": [
    "b"
   ]
  },
  {
   "cell_type": "code",
   "execution_count": 27,
   "id": "7dd43a46-fcb2-4101-84ea-665cd807adae",
   "metadata": {},
   "outputs": [
    {
     "data": {
      "text/plain": [
       "'corona'"
      ]
     },
     "execution_count": 27,
     "metadata": {},
     "output_type": "execute_result"
    }
   ],
   "source": [
    "c"
   ]
  },
  {
   "cell_type": "code",
   "execution_count": 28,
   "id": "23510f1b-5484-4a53-a21b-16c6a2e9d236",
   "metadata": {},
   "outputs": [],
   "source": [
    "import sys"
   ]
  },
  {
   "cell_type": "code",
   "execution_count": 29,
   "id": "2049cdbc-6a2a-4c97-85eb-4cdc47cf876b",
   "metadata": {},
   "outputs": [
    {
     "data": {
      "text/plain": [
       "22"
      ]
     },
     "execution_count": 29,
     "metadata": {},
     "output_type": "execute_result"
    }
   ],
   "source": [
    "sys.getrefcount(a)"
   ]
  },
  {
   "cell_type": "code",
   "execution_count": 31,
   "id": "460b0055-a807-479e-b80e-99f60aca0a03",
   "metadata": {},
   "outputs": [],
   "source": [
    "a =  \"shashi\""
   ]
  },
  {
   "cell_type": "code",
   "execution_count": 32,
   "id": "fcbd382a-b6f6-4633-934d-7fef2609ced2",
   "metadata": {},
   "outputs": [],
   "source": [
    "b=a\n",
    "c=b\n"
   ]
  },
  {
   "cell_type": "code",
   "execution_count": 33,
   "id": "a2d5391d-3966-4d4c-9d5d-8eda778d6be7",
   "metadata": {},
   "outputs": [
    {
     "data": {
      "text/plain": [
       "4"
      ]
     },
     "execution_count": 33,
     "metadata": {},
     "output_type": "execute_result"
    }
   ],
   "source": [
    "sys.getrefcount(a) # how many adress point one point"
   ]
  },
  {
   "cell_type": "code",
   "execution_count": 34,
   "id": "672a2cc2-2511-4421-a7d2-eecf707311b1",
   "metadata": {},
   "outputs": [],
   "source": [
    "# garbage collection"
   ]
  },
  {
   "cell_type": "code",
   "execution_count": 35,
   "id": "9cf44451-7137-4284-9bca-a66ea9623a51",
   "metadata": {},
   "outputs": [],
   "source": [
    "# Weird stuff"
   ]
  },
  {
   "cell_type": "code",
   "execution_count": 36,
   "id": "f8c60c6c-78fb-48bd-8f8b-6c0ce8a4413d",
   "metadata": {},
   "outputs": [],
   "source": [
    "# WB 1 "
   ]
  },
  {
   "cell_type": "code",
   "execution_count": 37,
   "id": "72b427be-404e-4198-bf27-bc785a3d017f",
   "metadata": {},
   "outputs": [],
   "source": [
    "a = 2\n",
    "b = a\n",
    "c = b"
   ]
  },
  {
   "cell_type": "code",
   "execution_count": 38,
   "id": "4f76e492-ef3d-4aef-a97a-c2aad9737dc4",
   "metadata": {},
   "outputs": [
    {
     "data": {
      "text/plain": [
       "1000001625"
      ]
     },
     "execution_count": 38,
     "metadata": {},
     "output_type": "execute_result"
    }
   ],
   "source": [
    "sys.getrefcount(a)"
   ]
  },
  {
   "cell_type": "code",
   "execution_count": 41,
   "id": "a9508e8b-8aa9-41ad-bdbf-10141d579db6",
   "metadata": {},
   "outputs": [],
   "source": [
    "a = 100000000\n",
    "b = a\n",
    "c = b"
   ]
  },
  {
   "cell_type": "code",
   "execution_count": 42,
   "id": "c52251a2-750c-4622-a864-15b2d8b58316",
   "metadata": {},
   "outputs": [
    {
     "data": {
      "text/plain": [
       "4"
      ]
     },
     "execution_count": 42,
     "metadata": {},
     "output_type": "execute_result"
    }
   ],
   "source": [
    "sys.getrefcount(a)"
   ]
  },
  {
   "cell_type": "code",
   "execution_count": null,
   "id": "926b47ec-3a6c-4a33-a315-79e741463df8",
   "metadata": {},
   "outputs": [],
   "source": []
  }
 ],
 "metadata": {
  "kernelspec": {
   "display_name": "Python 3 (ipykernel)",
   "language": "python",
   "name": "python3"
  },
  "language_info": {
   "codemirror_mode": {
    "name": "ipython",
    "version": 3
   },
   "file_extension": ".py",
   "mimetype": "text/x-python",
   "name": "python",
   "nbconvert_exporter": "python",
   "pygments_lexer": "ipython3",
   "version": "3.11.5"
  }
 },
 "nbformat": 4,
 "nbformat_minor": 5
}
