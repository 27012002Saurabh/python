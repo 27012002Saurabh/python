{
 "cells": [
  {
   "cell_type": "code",
   "execution_count": 1,
   "id": "3c2c32ab-0718-424d-8876-f4feceacdeac",
   "metadata": {},
   "outputs": [],
   "source": [
    "def is_even(number):\n",
    "    if number%2 == 0:\n",
    "        return \"Even\"\n",
    "    else:\n",
    "        return \"Odd\"\n",
    "   \n",
    "      \n",
    "    \n",
    "    \"\"\"\n",
    "    This function tells if a given number is odd or even \n",
    "    input - any valid integer \n",
    "    output- odd/even \n",
    "    created by - Saurabh\n",
    "    Last edited - 03 Sept 2023\n",
    "    \"\"\"\n",
    "\n"
   ]
  },
  {
   "cell_type": "code",
   "execution_count": 2,
   "id": "ae18f76d-20e4-4eb5-8208-aa8868162650",
   "metadata": {},
   "outputs": [
    {
     "name": "stdout",
     "output_type": "stream",
     "text": [
      "Odd\n",
      "Even\n",
      "Odd\n",
      "Even\n",
      "Odd\n",
      "Even\n",
      "Odd\n",
      "Even\n",
      "Odd\n",
      "Even\n"
     ]
    }
   ],
   "source": [
    "for i in range(1,11):\n",
    "    print(is_even(i))"
   ]
  },
  {
   "cell_type": "code",
   "execution_count": 3,
   "id": "96a1e2f6-a4ee-415a-a3bc-0a942b1ed304",
   "metadata": {},
   "outputs": [
    {
     "name": "stdout",
     "output_type": "stream",
     "text": [
      "None\n"
     ]
    }
   ],
   "source": [
    "print(is_even.__doc__)"
   ]
  },
  {
   "cell_type": "code",
   "execution_count": 4,
   "id": "7437659f-eaf9-404a-b8b5-4c50c1bcc6f1",
   "metadata": {},
   "outputs": [
    {
     "data": {
      "text/plain": [
       "\"type(object) -> the object's type\\ntype(name, bases, dict, **kwds) -> a new type\""
      ]
     },
     "execution_count": 4,
     "metadata": {},
     "output_type": "execute_result"
    }
   ],
   "source": [
    "type.__doc__"
   ]
  },
  {
   "cell_type": "code",
   "execution_count": 5,
   "id": "c2d2a7eb-83f1-490e-88ed-2c06aadcbc9a",
   "metadata": {},
   "outputs": [],
   "source": [
    "def power(a,b):\n",
    "    return a**b"
   ]
  },
  {
   "cell_type": "code",
   "execution_count": 6,
   "id": "ecd49d5a-3048-4b76-8cbe-b1dd81280ae3",
   "metadata": {},
   "outputs": [
    {
     "data": {
      "text/plain": [
       "8"
      ]
     },
     "execution_count": 6,
     "metadata": {},
     "output_type": "execute_result"
    }
   ],
   "source": [
    "power(2,3)"
   ]
  },
  {
   "cell_type": "markdown",
   "id": "a3cea68d-3171-475e-a575-52e163587abf",
   "metadata": {},
   "source": [
    "# Default"
   ]
  },
  {
   "cell_type": "code",
   "execution_count": 7,
   "id": "8af4165d-0f82-40d0-b65f-e6a0c7220ef6",
   "metadata": {},
   "outputs": [],
   "source": [
    "def power(a=1,b=1):\n",
    "    return a**b"
   ]
  },
  {
   "cell_type": "code",
   "execution_count": 8,
   "id": "035469fb-c06a-43b0-9f1a-603ff6bfe094",
   "metadata": {},
   "outputs": [
    {
     "data": {
      "text/plain": [
       "16"
      ]
     },
     "execution_count": 8,
     "metadata": {},
     "output_type": "execute_result"
    }
   ],
   "source": [
    "power(2,4)"
   ]
  },
  {
   "cell_type": "code",
   "execution_count": 9,
   "id": "ce26db61-ca73-490e-bfc1-f0ab9c2cb68b",
   "metadata": {},
   "outputs": [
    {
     "data": {
      "text/plain": [
       "3"
      ]
     },
     "execution_count": 9,
     "metadata": {},
     "output_type": "execute_result"
    }
   ],
   "source": [
    "power(3)"
   ]
  },
  {
   "cell_type": "code",
   "execution_count": 10,
   "id": "718051f0-0a4f-4d34-b3b4-73cd8e397902",
   "metadata": {},
   "outputs": [
    {
     "data": {
      "text/plain": [
       "1"
      ]
     },
     "execution_count": 10,
     "metadata": {},
     "output_type": "execute_result"
    }
   ],
   "source": [
    "power()"
   ]
  },
  {
   "cell_type": "code",
   "execution_count": 11,
   "id": "22ee9085-c673-458d-9e41-cc93f1569c8e",
   "metadata": {},
   "outputs": [
    {
     "data": {
      "text/plain": [
       "8"
      ]
     },
     "execution_count": 11,
     "metadata": {},
     "output_type": "execute_result"
    }
   ],
   "source": [
    "power(2,3)"
   ]
  },
  {
   "cell_type": "code",
   "execution_count": 12,
   "id": "d0761032-061f-4723-99d0-c702d5cd84ca",
   "metadata": {},
   "outputs": [],
   "source": [
    "# positional arguments\n"
   ]
  },
  {
   "cell_type": "code",
   "execution_count": 13,
   "id": "006c4a86-f27a-4f90-98b0-ea715386a136",
   "metadata": {},
   "outputs": [
    {
     "data": {
      "text/plain": [
       "9"
      ]
     },
     "execution_count": 13,
     "metadata": {},
     "output_type": "execute_result"
    }
   ],
   "source": [
    "power(b=2,a=3)"
   ]
  },
  {
   "cell_type": "code",
   "execution_count": 14,
   "id": "a259f082-6150-4338-9fc3-0b05ad41be2a",
   "metadata": {},
   "outputs": [],
   "source": [
    "# keyword"
   ]
  },
  {
   "cell_type": "code",
   "execution_count": 15,
   "id": "22fbe6e1-6dd0-41e3-83ad-24ca931d481b",
   "metadata": {},
   "outputs": [
    {
     "name": "stdout",
     "output_type": "stream",
     "text": [
      "1 2 4\n"
     ]
    }
   ],
   "source": [
    "print(1,2,4)"
   ]
  },
  {
   "cell_type": "code",
   "execution_count": 16,
   "id": "4fdbb80f-023f-4bbb-bc79-eacc83b916c4",
   "metadata": {},
   "outputs": [],
   "source": [
    "def flexi(*number):\n",
    "    product = 1\n",
    "    for i in number:\n",
    "        print(number)\n",
    "        product=product * i\n",
    "    print(product)   "
   ]
  },
  {
   "cell_type": "code",
   "execution_count": 17,
   "id": "2ddf1302-f076-4f00-967b-1b5b6410536b",
   "metadata": {},
   "outputs": [
    {
     "name": "stdout",
     "output_type": "stream",
     "text": [
      "(1,)\n",
      "1\n"
     ]
    }
   ],
   "source": [
    "flexi(1)"
   ]
  },
  {
   "cell_type": "code",
   "execution_count": 18,
   "id": "28fb22df-fcc5-426f-8c1a-650b6d05b4cd",
   "metadata": {},
   "outputs": [
    {
     "name": "stdout",
     "output_type": "stream",
     "text": [
      "(1, 2)\n",
      "(1, 2)\n",
      "2\n"
     ]
    }
   ],
   "source": [
    "flexi(1,2)"
   ]
  },
  {
   "cell_type": "code",
   "execution_count": 19,
   "id": "6e6819f4-2aec-4b12-8257-1294a463ab80",
   "metadata": {},
   "outputs": [
    {
     "name": "stdout",
     "output_type": "stream",
     "text": [
      "(1, 2, 3)\n",
      "(1, 2, 3)\n",
      "(1, 2, 3)\n",
      "6\n"
     ]
    }
   ],
   "source": [
    "flexi(1,2,3)"
   ]
  },
  {
   "cell_type": "code",
   "execution_count": 20,
   "id": "33f818d4-1c86-4803-ad05-c6ff2c0f5aaf",
   "metadata": {},
   "outputs": [
    {
     "name": "stdout",
     "output_type": "stream",
     "text": [
      "(5, 6)\n",
      "(5, 6)\n",
      "30\n"
     ]
    }
   ],
   "source": [
    "flexi(5,6)"
   ]
  },
  {
   "cell_type": "code",
   "execution_count": 21,
   "id": "dd5bfdca-ce01-46d0-8ea4-66e1d8f0f6c9",
   "metadata": {},
   "outputs": [
    {
     "name": "stdout",
     "output_type": "stream",
     "text": [
      "2\n",
      "5\n"
     ]
    }
   ],
   "source": [
    "def f(y):\n",
    "    x = 1\n",
    "    x+= 1\n",
    "    print(x)\n",
    "x = 5\n",
    "f(x)\n",
    "print(x)"
   ]
  },
  {
   "cell_type": "code",
   "execution_count": 22,
   "id": "e1db51bf-6329-4228-b74f-7c277d0b0746",
   "metadata": {},
   "outputs": [
    {
     "name": "stdout",
     "output_type": "stream",
     "text": [
      "5\n",
      "6\n",
      "5\n"
     ]
    }
   ],
   "source": [
    "def g(y):\n",
    "    print(x)\n",
    "    print(x+1)\n",
    "x=5\n",
    "g(x)\n",
    "print(x)"
   ]
  },
  {
   "cell_type": "code",
   "execution_count": 23,
   "id": "78f886bc-860c-41a2-8b06-512a38238301",
   "metadata": {},
   "outputs": [],
   "source": [
    "def f():\n",
    "    print(\"inside f\")\n",
    "    def g():\n",
    "        print(\"inside g\")\n",
    "    g()    "
   ]
  },
  {
   "cell_type": "code",
   "execution_count": null,
   "id": "5c706492-85d7-4dab-89dc-8bf8ab6c5ed2",
   "metadata": {},
   "outputs": [],
   "source": []
  }
 ],
 "metadata": {
  "kernelspec": {
   "display_name": "Python 3 (ipykernel)",
   "language": "python",
   "name": "python3"
  },
  "language_info": {
   "codemirror_mode": {
    "name": "ipython",
    "version": 3
   },
   "file_extension": ".py",
   "mimetype": "text/x-python",
   "name": "python",
   "nbconvert_exporter": "python",
   "pygments_lexer": "ipython3",
   "version": "3.11.5"
  }
 },
 "nbformat": 4,
 "nbformat_minor": 5
}
