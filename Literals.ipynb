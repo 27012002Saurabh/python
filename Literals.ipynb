{
 "cells": [
  {
   "cell_type": "markdown",
   "id": "981f2f72-a22d-468c-9710-a51f23e098fd",
   "metadata": {},
   "source": [
    "# Literals"
   ]
  },
  {
   "cell_type": "markdown",
   "id": "19c5a132-ee9c-4820-9f6b-d12c088f58d6",
   "metadata": {},
   "source": [
    "\n",
    "Literal is a raw data given in variable in python. there are various types of literals they are as follows:"
   ]
  },
  {
   "cell_type": "markdown",
   "id": "43a376fc-2058-4516-ada5-84f13daace1a",
   "metadata": {},
   "source": [
    ".Numeric literals\n",
    "\n",
    ".String literals\n",
    "\n",
    ".Boolean literals\n",
    "\n",
    ".Special literals"
   ]
  },
  {
   "cell_type": "markdown",
   "id": "c2102abd-1376-4b4c-8c24-78dfac23fe15",
   "metadata": {},
   "source": [
    "1. Numeric literals"
   ]
  },
  {
   "cell_type": "code",
   "execution_count": 1,
   "id": "3d4326da-c277-4cab-9437-a74b1b2bcaa3",
   "metadata": {},
   "outputs": [
    {
     "name": "stdout",
     "output_type": "stream",
     "text": [
      "10 100 200 300\n",
      "10.5 150.0 1500.0\n",
      "3.14j 3.14 0.0\n"
     ]
    }
   ],
   "source": [
    "a = 0b1010 #binary literals \n",
    "b = 100 #Decimal literals \n",
    "c = 0o310 # Octel literals\n",
    "d = 0x12c #hexadeximal literals\n",
    "\n",
    "#float literals\n",
    "float_1 = 10.5\n",
    "float_2 = 1.5e2\n",
    "float_3 = 1.5e3\n",
    "\n",
    "# complex literals\n",
    "x = 3.14j\n",
    "\n",
    "print(a , b, c, d)\n",
    "print(float_1,float_2,float_3)\n",
    "print(x, x.imag, x.real)"
   ]
  },
  {
   "cell_type": "markdown",
   "id": "f492f916-cc72-4efd-b766-5b3538332821",
   "metadata": {},
   "source": [
    "# 2.String literals"
   ]
  },
  {
   "cell_type": "code",
   "execution_count": 3,
   "id": "4e296462-33c5-4c62-b26f-e265751b0cfc",
   "metadata": {},
   "outputs": [
    {
     "name": "stdout",
     "output_type": "stream",
     "text": [
      "This is Python\n",
      "this is python\n",
      "c\n",
      "This is multiline string with more than one line code.\n",
      "😀😆🤣\n",
      "raw \\n string\n"
     ]
    }
   ],
   "source": [
    "string = 'This is Python'\n",
    "strings = \"this is python\"\n",
    "char = \"c\"\n",
    "multiline_str = \"\"\"This is multiline string with more than one line code.\"\"\"\n",
    "unicode = u\"\\U0001f600\\U0001F606\\U0001F923\"\n",
    "raw_str = r\"raw \\n string\"\n",
    "\n",
    "print(string)\n",
    "print(strings)\n",
    "print(char)\n",
    "print(multiline_str)\n",
    "print(unicode)\n",
    "print(raw_str)"
   ]
  },
  {
   "cell_type": "markdown",
   "id": "c4045dba-da9f-43c4-97b6-ebc3c4556c33",
   "metadata": {},
   "source": [
    "\n",
    "\n",
    "# 3.Boolean Literal\n"
   ]
  },
  {
   "cell_type": "code",
   "execution_count": 5,
   "id": "28186e33-3e2c-43ee-8aff-6f10c3ba3c10",
   "metadata": {},
   "outputs": [
    {
     "name": "stdout",
     "output_type": "stream",
     "text": [
      "a: 5\n",
      "b: 10\n"
     ]
    }
   ],
   "source": [
    "a = True + 4\n",
    "b = False + 10\n",
    "\n",
    "print(\"a:\",a)\n",
    "print(\"b:\",b)"
   ]
  },
  {
   "cell_type": "markdown",
   "id": "5c65b990-bceb-40d8-a396-b1d70b1190b1",
   "metadata": {},
   "source": [
    "\n",
    "# 4.special literals"
   ]
  },
  {
   "cell_type": "code",
   "execution_count": 6,
   "id": "27ab77e0-1659-44ec-b8c3-1dea1f2e5b43",
   "metadata": {},
   "outputs": [
    {
     "name": "stdout",
     "output_type": "stream",
     "text": [
      "None\n"
     ]
    }
   ],
   "source": [
    "a = None\n",
    "print(a)\n"
   ]
  },
  {
   "cell_type": "code",
   "execution_count": 7,
   "id": "4af21f24-d708-479b-9d2a-aaf118212e69",
   "metadata": {},
   "outputs": [],
   "source": [
    "# variable declar\n",
    "k = None"
   ]
  },
  {
   "cell_type": "code",
   "execution_count": null,
   "id": "ecf82bcd-20cc-42a3-8ae7-ab34492b4be2",
   "metadata": {},
   "outputs": [],
   "source": []
  }
 ],
 "metadata": {
  "kernelspec": {
   "display_name": "Python 3 (ipykernel)",
   "language": "python",
   "name": "python3"
  },
  "language_info": {
   "codemirror_mode": {
    "name": "ipython",
    "version": 3
   },
   "file_extension": ".py",
   "mimetype": "text/x-python",
   "name": "python",
   "nbconvert_exporter": "python",
   "pygments_lexer": "ipython3",
   "version": "3.11.4"
  }
 },
 "nbformat": 4,
 "nbformat_minor": 5
}
