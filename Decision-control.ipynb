{
 "cells": [
  {
   "cell_type": "code",
   "execution_count": 20,
   "id": "ff1bd0ff-27b2-4611-bdc9-b63ad0485e10",
   "metadata": {},
   "outputs": [
    {
     "name": "stdin",
     "output_type": "stream",
     "text": [
      "Apna email bta saurabh876500@gmail.com\n",
      "Apna password batao 2468\n"
     ]
    },
    {
     "name": "stdout",
     "output_type": "stream",
     "text": [
      "password incorrect\n"
     ]
    },
    {
     "name": "stdin",
     "output_type": "stream",
     "text": [
      "password fir se bol 1234\n"
     ]
    },
    {
     "name": "stdout",
     "output_type": "stream",
     "text": [
      "finally correct\n"
     ]
    }
   ],
   "source": [
    "email = input(\"Apna email bta\")\n",
    "if '@' in email:\n",
    "    password = input(\"Apna password batao\")\n",
    "\n",
    "    if email == \"saurabh876500@gmail.com\" and password == \"1234\":\n",
    "        print(\"welcome\")\n",
    "    elif email == \"saurabh876500@gmail.com\" and password != \" 1234\":\n",
    "        print(\"password incorrect\")\n",
    "        password = input(\"password fir se bol\")\n",
    "        if password == \"1234\":\n",
    "           print(\"finally correct\")\n",
    "        else:\n",
    "             print(\"incorrect\")\n",
    "    else:\n",
    "        print(\"incorrect credencials\")\n",
    "else:\n",
    "    print(\"Email galat hai sahi likho\")\n",
    "\n",
    "\n",
    "    \n",
    "\n"
   ]
  },
  {
   "cell_type": "code",
   "execution_count": null,
   "id": "385dc3ec-ed08-43fc-b72f-519f0ca11c52",
   "metadata": {},
   "outputs": [],
   "source": []
  },
  {
   "cell_type": "code",
   "execution_count": null,
   "id": "f9fec04a-6c1c-4685-9048-769d9e05b876",
   "metadata": {},
   "outputs": [],
   "source": []
  }
 ],
 "metadata": {
  "kernelspec": {
   "display_name": "Python 3 (ipykernel)",
   "language": "python",
   "name": "python3"
  },
  "language_info": {
   "codemirror_mode": {
    "name": "ipython",
    "version": 3
   },
   "file_extension": ".py",
   "mimetype": "text/x-python",
   "name": "python",
   "nbconvert_exporter": "python",
   "pygments_lexer": "ipython3",
   "version": "3.11.4"
  }
 },
 "nbformat": 4,
 "nbformat_minor": 5
}
