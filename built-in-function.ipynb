{
 "cells": [
  {
   "cell_type": "markdown",
   "id": "30183d6b-1d03-43f1-aa29-74b07caff9bb",
   "metadata": {},
   "source": [
    "# 1. print"
   ]
  },
  {
   "cell_type": "code",
   "execution_count": 1,
   "id": "483902a0-621b-4cd1-8673-a6d02c1a44ca",
   "metadata": {},
   "outputs": [
    {
     "name": "stdout",
     "output_type": "stream",
     "text": [
      "Hello world\n"
     ]
    }
   ],
   "source": [
    "print(\"Hello world\")"
   ]
  },
  {
   "cell_type": "markdown",
   "id": "30fc3549-8336-4df6-b4b1-92c8f72cf474",
   "metadata": {},
   "source": [
    "# 2. input"
   ]
  },
  {
   "cell_type": "code",
   "execution_count": 2,
   "id": "b0caac0c-0784-48ff-a4dc-499dec502f70",
   "metadata": {},
   "outputs": [
    {
     "name": "stdin",
     "output_type": "stream",
     "text": [
      "Enter your name  SAURABH MAURYA\n"
     ]
    },
    {
     "data": {
      "text/plain": [
       "'SAURABH MAURYA'"
      ]
     },
     "execution_count": 2,
     "metadata": {},
     "output_type": "execute_result"
    }
   ],
   "source": [
    "input(\"Enter your name \")"
   ]
  },
  {
   "cell_type": "markdown",
   "id": "6eda7c0f-98d2-4d4e-9ff0-4a5705e5214e",
   "metadata": {},
   "source": [
    "# 3. type "
   ]
  },
  {
   "cell_type": "code",
   "execution_count": 4,
   "id": "1d763935-ac22-4baa-a3f5-91a933457d04",
   "metadata": {},
   "outputs": [
    {
     "data": {
      "text/plain": [
       "bool"
      ]
     },
     "execution_count": 4,
     "metadata": {},
     "output_type": "execute_result"
    }
   ],
   "source": [
    "a = True \n",
    "type(a)"
   ]
  },
  {
   "cell_type": "markdown",
   "id": "dd9748b6-0c48-4a86-bb4b-f6ea4d2b0622",
   "metadata": {},
   "source": [
    "# 4.int etc.\n"
   ]
  },
  {
   "cell_type": "code",
   "execution_count": 5,
   "id": "57984ecc-6c13-47bd-942a-7d35f537ea74",
   "metadata": {},
   "outputs": [
    {
     "data": {
      "text/plain": [
       "3"
      ]
     },
     "execution_count": 5,
     "metadata": {},
     "output_type": "execute_result"
    }
   ],
   "source": [
    "int(\"3\")"
   ]
  },
  {
   "cell_type": "markdown",
   "id": "3c441185-ff8d-4021-b7ce-8ae37083283f",
   "metadata": {},
   "source": [
    "# 5.abs"
   ]
  },
  {
   "cell_type": "code",
   "execution_count": 1,
   "id": "7f31df30-bf04-4c09-b4e7-6861bb3610d2",
   "metadata": {},
   "outputs": [
    {
     "data": {
      "text/plain": [
       "4"
      ]
     },
     "execution_count": 1,
     "metadata": {},
     "output_type": "execute_result"
    }
   ],
   "source": [
    "abs(-4)"
   ]
  },
  {
   "cell_type": "markdown",
   "id": "b472c832-9487-4a88-9920-4e7f2b3d718a",
   "metadata": {},
   "source": [
    "# 6. pow"
   ]
  },
  {
   "cell_type": "code",
   "execution_count": 2,
   "id": "ec0d60de-3478-4493-8380-0e83b31e12bf",
   "metadata": {},
   "outputs": [
    {
     "data": {
      "text/plain": [
       "8"
      ]
     },
     "execution_count": 2,
     "metadata": {},
     "output_type": "execute_result"
    }
   ],
   "source": [
    "pow (2,3)"
   ]
  },
  {
   "cell_type": "markdown",
   "id": "f6b809bb-3fd1-4f96-a6f2-79c61d7b78ff",
   "metadata": {},
   "source": [
    "# 7. min/ max"
   ]
  },
  {
   "cell_type": "code",
   "execution_count": 3,
   "id": "ba67976e-fcba-4beb-acea-dd6748fa66f8",
   "metadata": {},
   "outputs": [
    {
     "data": {
      "text/plain": [
       "2"
      ]
     },
     "execution_count": 3,
     "metadata": {},
     "output_type": "execute_result"
    }
   ],
   "source": [
    "min([3,2,8,9])"
   ]
  },
  {
   "cell_type": "markdown",
   "id": "bbf37c65-639b-49c3-928e-a02e741695dd",
   "metadata": {},
   "source": [
    "# 8. round"
   ]
  },
  {
   "cell_type": "code",
   "execution_count": 4,
   "id": "8b5634d9-7526-4b5f-b888-8314668a7ce5",
   "metadata": {},
   "outputs": [
    {
     "data": {
      "text/plain": [
       "3"
      ]
     },
     "execution_count": 4,
     "metadata": {},
     "output_type": "execute_result"
    }
   ],
   "source": [
    "c = 22/7\n",
    "round(3)"
   ]
  },
  {
   "cell_type": "markdown",
   "id": "3c2bd7ab-2162-4a4a-84d1-c6ea874999c6",
   "metadata": {},
   "source": [
    "# 9. divmod"
   ]
  },
  {
   "cell_type": "code",
   "execution_count": 6,
   "id": "7edb4734-9bf8-463d-b81d-867785816b5e",
   "metadata": {},
   "outputs": [
    {
     "data": {
      "text/plain": [
       "(2, 1)"
      ]
     },
     "execution_count": 6,
     "metadata": {},
     "output_type": "execute_result"
    }
   ],
   "source": [
    "divmod(5,2)"
   ]
  },
  {
   "cell_type": "markdown",
   "id": "de88ee51-6c53-424d-9de3-991d4ab7cbd3",
   "metadata": {},
   "source": [
    "# 10 . bin/oct/hex"
   ]
  },
  {
   "cell_type": "code",
   "execution_count": 8,
   "id": "5221a8e3-71bd-4b1e-a5cb-d51d60809c7c",
   "metadata": {},
   "outputs": [
    {
     "data": {
      "text/plain": [
       "'0b100'"
      ]
     },
     "execution_count": 8,
     "metadata": {},
     "output_type": "execute_result"
    }
   ],
   "source": [
    "bin(4)"
   ]
  },
  {
   "cell_type": "markdown",
   "id": "6cf5615f-2070-4da8-960d-5488f12f5d8a",
   "metadata": {},
   "source": [
    "# 11.id"
   ]
  },
  {
   "cell_type": "code",
   "execution_count": 9,
   "id": "a1ab8aed-bd96-4bdc-853e-6dccc3f68fe9",
   "metadata": {},
   "outputs": [
    {
     "data": {
      "text/plain": [
       "140714162578280"
      ]
     },
     "execution_count": 9,
     "metadata": {},
     "output_type": "execute_result"
    }
   ],
   "source": [
    "a = 3\n",
    "id(a)"
   ]
  },
  {
   "cell_type": "markdown",
   "id": "03dcfd25-86ae-4ec7-b640-add288b71a15",
   "metadata": {},
   "source": [
    "# 12.ord"
   ]
  },
  {
   "cell_type": "code",
   "execution_count": 10,
   "id": "b5c9beb3-9f19-478c-bf81-d4fbe1c453e4",
   "metadata": {},
   "outputs": [
    {
     "data": {
      "text/plain": [
       "97"
      ]
     },
     "execution_count": 10,
     "metadata": {},
     "output_type": "execute_result"
    }
   ],
   "source": [
    "ord('a')"
   ]
  },
  {
   "cell_type": "markdown",
   "id": "fa42966d-638f-4070-b48b-f6389885367a",
   "metadata": {},
   "source": [
    "# 13.len"
   ]
  },
  {
   "cell_type": "code",
   "execution_count": 11,
   "id": "0418d731-1385-446a-bf5e-e34d7028ad66",
   "metadata": {},
   "outputs": [
    {
     "data": {
      "text/plain": [
       "7"
      ]
     },
     "execution_count": 11,
     "metadata": {},
     "output_type": "execute_result"
    }
   ],
   "source": [
    "len('kolkata')"
   ]
  },
  {
   "cell_type": "markdown",
   "id": "d2f237d8-cc57-4e43-876f-0fad802ddfa4",
   "metadata": {},
   "source": [
    "# 14. sum"
   ]
  },
  {
   "cell_type": "code",
   "execution_count": 15,
   "id": "b8014ca5-284f-4a17-bf9f-1f12eb17b1cb",
   "metadata": {},
   "outputs": [
    {
     "data": {
      "text/plain": [
       "28"
      ]
     },
     "execution_count": 15,
     "metadata": {},
     "output_type": "execute_result"
    }
   ],
   "source": [
    "sum({1,23,4})"
   ]
  },
  {
   "cell_type": "markdown",
   "id": "f056161e-8bf4-45a9-97c9-43e12681de38",
   "metadata": {},
   "source": [
    "# 15.help"
   ]
  },
  {
   "cell_type": "code",
   "execution_count": 16,
   "id": "930de7fb-af4f-4194-a331-67536c6ba2c7",
   "metadata": {},
   "outputs": [
    {
     "name": "stdout",
     "output_type": "stream",
     "text": [
      "Help on built-in function print in module builtins:\n",
      "\n",
      "print(*args, sep=' ', end='\\n', file=None, flush=False)\n",
      "    Prints the values to a stream, or to sys.stdout by default.\n",
      "    \n",
      "    sep\n",
      "      string inserted between values, default a space.\n",
      "    end\n",
      "      string appended after the last value, default a newline.\n",
      "    file\n",
      "      a file-like object (stream); defaults to the current sys.stdout.\n",
      "    flush\n",
      "      whether to forcibly flush the stream.\n",
      "\n"
     ]
    }
   ],
   "source": [
    "help('print')"
   ]
  },
  {
   "cell_type": "code",
   "execution_count": 17,
   "id": "0274332c-214f-4c53-903a-b94940bf6796",
   "metadata": {},
   "outputs": [
    {
     "name": "stdout",
     "output_type": "stream",
     "text": [
      "Help on built-in function abs in module builtins:\n",
      "\n",
      "abs(x, /)\n",
      "    Return the absolute value of the argument.\n",
      "\n"
     ]
    }
   ],
   "source": [
    "help('abs')"
   ]
  },
  {
   "cell_type": "code",
   "execution_count": null,
   "id": "27e12cea-69bf-4d70-a034-6ee315d5c77a",
   "metadata": {},
   "outputs": [],
   "source": []
  }
 ],
 "metadata": {
  "kernelspec": {
   "display_name": "Python 3 (ipykernel)",
   "language": "python",
   "name": "python3"
  },
  "language_info": {
   "codemirror_mode": {
    "name": "ipython",
    "version": 3
   },
   "file_extension": ".py",
   "mimetype": "text/x-python",
   "name": "python",
   "nbconvert_exporter": "python",
   "pygments_lexer": "ipython3",
   "version": "3.11.5"
  }
 },
 "nbformat": 4,
 "nbformat_minor": 5
}
